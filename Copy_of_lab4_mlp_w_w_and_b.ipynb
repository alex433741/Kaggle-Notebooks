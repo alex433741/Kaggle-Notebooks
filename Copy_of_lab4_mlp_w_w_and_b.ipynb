{
  "cells": [
    {
      "cell_type": "markdown",
      "metadata": {
        "id": "view-in-github",
        "colab_type": "text"
      },
      "source": [
        "<a href=\"https://colab.research.google.com/github/alex433741/Kaggle-Notebooks/blob/main/Copy_of_lab4_mlp_w_w_and_b.ipynb\" target=\"_parent\"><img src=\"https://colab.research.google.com/assets/colab-badge.svg\" alt=\"Open In Colab\"/></a>"
      ]
    },
    {
      "cell_type": "markdown",
      "metadata": {
        "id": "NeHa6ZG_SPqS"
      },
      "source": [
        "# Lab 4: Experimenting with a Multi-layer Perceptron (with W&B)\n",
        "\n",
        "[![Open In Colab](https://colab.research.google.com/assets/colab-badge.svg)](https://colab.research.google.com/github/sgeinitz/DSML4220/blob/main/lab4_mlp_w_w_and_b.ipynb)\n",
        "\n",
        "[![Kaggle](https://kaggle.com/static/images/open-in-kaggle.svg)](https://kaggle.com/kernels/welcome?src=https://github.com/sgeinitz/DSML4220/blob/main/lab4_mlp_w_w_and_b.ipynb)\n",
        "\n",
        "In this notebook we'll build go back to our MLP to classify the nationality of a surname (notebook [Misc 2](https://github.com/sgeinitz/DSML4220/blob/main/misc02_mlp_for_surnames.ipynb)), but this time we want to see how a neural network (with all of its various configuration) can be experimented on. By \"_experiment_\", we are not only talking about possible hyperparameter tuning (similar to ) but also other possible factors that could cause a neural networks performance to vary, such as type of optimizer (SGD, RMSProp, Adam, etc.), batch sizes, dropout rates, etc.\n",
        "\n",
        "Again, this was a fun dataset as it is very easy to understand. It consisted of 10k observations with:\n",
        "* y = nationality  \n",
        "* x = last name\n",
        "\n",
        "### Lab 4 Assignment/Task\n",
        "Similar to Lab 2, this lab does not have separate questions. It instead only asks you to change some of the various parameters/configurations/etc. that you want to experiment with, and then run the notebook so that the results appear on [https://wandb.ai](https://wandb.ai).\n",
        "\n",
        "Note that everything you need is in this notebook, but if you want to see more of what wandb can do, check out [their intro notebook](https://wandb.me/intro).\n",
        "\n",
        "As before, you'll submit the link to your completed notebook, and your notebook should have links to a wandb reports.\n",
        "\n",
        "__Note that at the bottom of this notebook there are a few cells that you need to complete. This notebook will not run until you do so.__"
      ]
    },
    {
      "cell_type": "markdown",
      "metadata": {
        "id": "EWpqLYXaSPqX"
      },
      "source": [
        "## Imports"
      ]
    },
    {
      "cell_type": "code",
      "execution_count": 1,
      "metadata": {
        "id": "qFceO0dgSPqX"
      },
      "outputs": [],
      "source": [
        "from argparse import Namespace\n",
        "import json\n",
        "import os\n",
        "\n",
        "import numpy as np\n",
        "import pandas as pd\n",
        "\n",
        "import torch\n",
        "import torch.nn as nn\n",
        "import torch.nn.functional as F\n",
        "import torch.optim as optim\n",
        "from torch.utils.data import Dataset, DataLoader"
      ]
    },
    {
      "cell_type": "code",
      "execution_count": 2,
      "metadata": {
        "id": "r9h1gCGiSPqZ"
      },
      "outputs": [],
      "source": [
        "#!pip install wandb\n",
        "\n",
        "import wandb\n",
        "import random"
      ]
    },
    {
      "cell_type": "code",
      "execution_count": 3,
      "metadata": {
        "id": "xoE36IU4SPqZ",
        "colab": {
          "base_uri": "https://localhost:8080/",
          "height": 216
        },
        "outputId": "7d05b2ab-84c1-44c1-de70-fbb70e830207"
      },
      "outputs": [
        {
          "output_type": "stream",
          "name": "stderr",
          "text": [
            "\u001b[34m\u001b[1mwandb\u001b[0m: Using wandb-core as the SDK backend.  Please refer to https://wandb.me/wandb-core for more information.\n"
          ]
        },
        {
          "output_type": "display_data",
          "data": {
            "text/plain": [
              "<IPython.core.display.Javascript object>"
            ],
            "application/javascript": [
              "\n",
              "        window._wandbApiKey = new Promise((resolve, reject) => {\n",
              "            function loadScript(url) {\n",
              "            return new Promise(function(resolve, reject) {\n",
              "                let newScript = document.createElement(\"script\");\n",
              "                newScript.onerror = reject;\n",
              "                newScript.onload = resolve;\n",
              "                document.body.appendChild(newScript);\n",
              "                newScript.src = url;\n",
              "            });\n",
              "            }\n",
              "            loadScript(\"https://cdn.jsdelivr.net/npm/postmate/build/postmate.min.js\").then(() => {\n",
              "            const iframe = document.createElement('iframe')\n",
              "            iframe.style.cssText = \"width:0;height:0;border:none\"\n",
              "            document.body.appendChild(iframe)\n",
              "            const handshake = new Postmate({\n",
              "                container: iframe,\n",
              "                url: 'https://wandb.ai/authorize'\n",
              "            });\n",
              "            const timeout = setTimeout(() => reject(\"Couldn't auto authenticate\"), 5000)\n",
              "            handshake.then(function(child) {\n",
              "                child.on('authorize', data => {\n",
              "                    clearTimeout(timeout)\n",
              "                    resolve(data)\n",
              "                });\n",
              "            });\n",
              "            })\n",
              "        });\n",
              "    "
            ]
          },
          "metadata": {}
        },
        {
          "output_type": "stream",
          "name": "stderr",
          "text": [
            "\u001b[34m\u001b[1mwandb\u001b[0m: Logging into wandb.ai. (Learn how to deploy a W&B server locally: https://wandb.me/wandb-server)\n",
            "\u001b[34m\u001b[1mwandb\u001b[0m: You can find your API key in your browser here: https://wandb.ai/authorize\n",
            "wandb: Paste an API key from your profile and hit enter:"
          ]
        },
        {
          "name": "stdout",
          "output_type": "stream",
          "text": [
            " ··········\n"
          ]
        },
        {
          "output_type": "stream",
          "name": "stderr",
          "text": [
            "\u001b[34m\u001b[1mwandb\u001b[0m: \u001b[33mWARNING\u001b[0m If you're specifying your api key in code, ensure this code is not shared publicly.\n",
            "\u001b[34m\u001b[1mwandb\u001b[0m: \u001b[33mWARNING\u001b[0m Consider setting the WANDB_API_KEY environment variable, or running `wandb login` from the command line.\n",
            "\u001b[34m\u001b[1mwandb\u001b[0m: No netrc file found, creating one.\n",
            "\u001b[34m\u001b[1mwandb\u001b[0m: Appending key for api.wandb.ai to your netrc file: /root/.netrc\n",
            "\u001b[34m\u001b[1mwandb\u001b[0m: Currently logged in as: \u001b[33macerva34\u001b[0m (\u001b[33mDSML4220\u001b[0m) to \u001b[32mhttps://api.wandb.ai\u001b[0m. Use \u001b[1m`wandb login --relogin`\u001b[0m to force relogin\n"
          ]
        },
        {
          "output_type": "execute_result",
          "data": {
            "text/plain": [
              "True"
            ]
          },
          "metadata": {},
          "execution_count": 3
        }
      ],
      "source": [
        "wandb.login()\n",
        "# or\n",
        "#!wandb login"
      ]
    },
    {
      "cell_type": "code",
      "execution_count": 4,
      "metadata": {
        "id": "Lzq0B01JSPqZ"
      },
      "outputs": [],
      "source": [
        "sweep_config = {\n",
        "    'method': 'random' # or 'grid' or 'bayes'\n",
        "}"
      ]
    },
    {
      "cell_type": "code",
      "execution_count": 5,
      "metadata": {
        "id": "Jh8rIuZWSPqa"
      },
      "outputs": [],
      "source": [
        "metric = {\n",
        "    'name': 'loss',\n",
        "    'goal': 'minimize'\n",
        "}\n",
        "\n",
        "sweep_config['metric'] = metric"
      ]
    },
    {
      "cell_type": "markdown",
      "metadata": {
        "id": "GjwqC1kfSPqa"
      },
      "source": [
        "## Data Vectorization classes"
      ]
    },
    {
      "cell_type": "markdown",
      "metadata": {
        "id": "4JOhWsM5SPqa"
      },
      "source": [
        "### The Vocabulary"
      ]
    },
    {
      "cell_type": "code",
      "execution_count": 13,
      "metadata": {
        "code_folding": [],
        "id": "VmUopQ8uSPqb"
      },
      "outputs": [],
      "source": [
        "class Vocabulary(object):\n",
        "    \"\"\"Class to process text and extract vocabulary for mapping\"\"\"\n",
        "\n",
        "    def __init__(self, token_to_idx=None, add_unk=True, unk_token=\"<UNK>\"):\n",
        "        \"\"\"\n",
        "        Args:\n",
        "            token_to_idx (dict): a pre-existing map of tokens to indices\n",
        "            add_unk (bool): a flag that indicates whether to add the UNK token\n",
        "            unk_token (str): the UNK token to add into the Vocabulary\n",
        "        \"\"\"\n",
        "\n",
        "        if token_to_idx is None:\n",
        "            token_to_idx = {}\n",
        "        self._token_to_idx = token_to_idx\n",
        "\n",
        "        self._idx_to_token = {idx: token\n",
        "                              for token, idx in self._token_to_idx.items()}\n",
        "\n",
        "        self._add_unk = add_unk\n",
        "        self._unk_token = unk_token\n",
        "\n",
        "        self.unk_index = -1\n",
        "        if add_unk:\n",
        "            self.unk_index = self.add_token(unk_token)\n",
        "\n",
        "\n",
        "    def to_serializable(self):\n",
        "        \"\"\" returns a dictionary that can be serialized \"\"\"\n",
        "        return {'token_to_idx': self._token_to_idx,\n",
        "                'add_unk': self._add_unk,\n",
        "                'unk_token': self._unk_token}\n",
        "\n",
        "    @classmethod\n",
        "    def from_serializable(cls, contents):\n",
        "        \"\"\" instantiates the Vocabulary from a serialized dictionary \"\"\"\n",
        "        return cls(**contents)\n",
        "\n",
        "    def add_token(self, token):\n",
        "        \"\"\"Update mapping dicts based on the token.\n",
        "\n",
        "        Args:\n",
        "            token (str): the item to add into the Vocabulary\n",
        "        Returns:\n",
        "            index (int): the integer corresponding to the token\n",
        "        \"\"\"\n",
        "        try:\n",
        "            index = self._token_to_idx[token]\n",
        "        except KeyError:\n",
        "            index = len(self._token_to_idx)\n",
        "            self._token_to_idx[token] = index\n",
        "            self._idx_to_token[index] = token\n",
        "        return index\n",
        "\n",
        "    def add_many(self, tokens):\n",
        "        \"\"\"Add a list of tokens into the Vocabulary\n",
        "\n",
        "        Args:\n",
        "            tokens (list): a list of string tokens\n",
        "        Returns:\n",
        "            indices (list): a list of indices corresponding to the tokens\n",
        "        \"\"\"\n",
        "        return [self.add_token(token) for token in tokens]\n",
        "\n",
        "    def lookup_token(self, token):\n",
        "        \"\"\"Retrieve the index associated with the token\n",
        "          or the UNK index if token isn't present.\n",
        "\n",
        "        Args:\n",
        "            token (str): the token to look up\n",
        "        Returns:\n",
        "            index (int): the index corresponding to the token\n",
        "        Notes:\n",
        "            `unk_index` needs to be >=0 (having been added into the Vocabulary)\n",
        "              for the UNK functionality\n",
        "        \"\"\"\n",
        "        if self.unk_index >= 0:\n",
        "            return self._token_to_idx.get(token, self.unk_index)\n",
        "        else:\n",
        "            return self._token_to_idx[token]\n",
        "\n",
        "    def lookup_index(self, index):\n",
        "        \"\"\"Return the token associated with the index\n",
        "\n",
        "        Args:\n",
        "            index (int): the index to look up\n",
        "        Returns:\n",
        "            token (str): the token corresponding to the index\n",
        "        Raises:\n",
        "            KeyError: if the index is not in the Vocabulary\n",
        "        \"\"\"\n",
        "        if index not in self._idx_to_token:\n",
        "            raise KeyError(\"the index (%d) is not in the Vocabulary\" % index)\n",
        "        return self._idx_to_token[index]\n",
        "\n",
        "    def __str__(self):\n",
        "        return \"<Vocabulary(size=%d)>\" % len(self)\n",
        "\n",
        "    def __len__(self):\n",
        "        return len(self._token_to_idx)"
      ]
    },
    {
      "cell_type": "markdown",
      "metadata": {
        "id": "Gl1M6uLQSPqb"
      },
      "source": [
        "### The Vectorizer"
      ]
    },
    {
      "cell_type": "code",
      "execution_count": 16,
      "metadata": {
        "id": "MeAe_EATSPqb"
      },
      "outputs": [],
      "source": [
        "class SurnameVectorizer(object):\n",
        "    \"\"\" The Vectorizer which coordinates the Vocabularies and puts them to use\"\"\"\n",
        "    def __init__(self, surname_vocab, nationality_vocab):\n",
        "        \"\"\"\n",
        "        Args:\n",
        "            surname_vocab (Vocabulary): maps characters to integers\n",
        "            nationality_vocab (Vocabulary): maps nationalities to integers\n",
        "        \"\"\"\n",
        "        self.surname_vocab = surname_vocab\n",
        "        self.nationality_vocab = nationality_vocab\n",
        "\n",
        "    def vectorize(self, surname):\n",
        "        \"\"\"\n",
        "        Args:\n",
        "            surname (str): the surname\n",
        "\n",
        "        Returns:\n",
        "            one_hot (np.ndarray): a collapsed one-hot encoding\n",
        "        \"\"\"\n",
        "        vocab = self.surname_vocab\n",
        "        one_hot = np.zeros(len(vocab), dtype=np.float32)\n",
        "        for token in surname:\n",
        "            one_hot[vocab.lookup_token(token)] = 1\n",
        "\n",
        "        return one_hot\n",
        "\n",
        "    @classmethod\n",
        "    def from_dataframe(cls, surname_df):\n",
        "        \"\"\"Instantiate the vectorizer from the dataset dataframe\n",
        "\n",
        "        Args:\n",
        "            surname_df (pandas.DataFrame): the surnames dataset\n",
        "        Returns:\n",
        "            an instance of the SurnameVectorizer\n",
        "        \"\"\"\n",
        "        surname_vocab = Vocabulary(unk_token=\"@\")\n",
        "        nationality_vocab = Vocabulary(add_unk=False)\n",
        "\n",
        "        for index, row in surname_df.iterrows():\n",
        "            for letter in row.surname:\n",
        "                surname_vocab.add_token(letter)\n",
        "            nationality_vocab.add_token(row.nationality)\n",
        "\n",
        "        return cls(surname_vocab, nationality_vocab)\n",
        "\n",
        "    @classmethod\n",
        "    def from_serializable(cls, contents):\n",
        "        surname_vocab = Vocabulary.from_serializable(contents['surname_vocab'])\n",
        "        nationality_vocab =  Vocabulary.from_serializable(contents['nationality_vocab'])\n",
        "        return cls(surname_vocab=surname_vocab, nationality_vocab=nationality_vocab)\n",
        "\n",
        "    def to_serializable(self):\n",
        "        return {'surname_vocab': self.surname_vocab.to_serializable(),\n",
        "                'nationality_vocab': self.nationality_vocab.to_serializable()}"
      ]
    },
    {
      "cell_type": "markdown",
      "metadata": {
        "id": "5xidWquASPqc"
      },
      "source": [
        "### The Dataset"
      ]
    },
    {
      "cell_type": "code",
      "execution_count": 17,
      "metadata": {
        "id": "ZCbQBL6MSPqc"
      },
      "outputs": [],
      "source": [
        "class SurnameDataset(Dataset):\n",
        "    def __init__(self, surname_df, vectorizer):\n",
        "        \"\"\"\n",
        "        Args:\n",
        "            surname_df (pandas.DataFrame): the dataset\n",
        "            vectorizer (SurnameVectorizer): vectorizer instatiated from dataset\n",
        "        \"\"\"\n",
        "        self.surname_df = surname_df\n",
        "        self._vectorizer = vectorizer\n",
        "\n",
        "        self.train_df = self.surname_df[self.surname_df.split=='train']\n",
        "        self.train_size = len(self.train_df)\n",
        "\n",
        "        self.val_df = self.surname_df[self.surname_df.split=='val']\n",
        "        self.validation_size = len(self.val_df)\n",
        "\n",
        "        self.test_df = self.surname_df[self.surname_df.split=='test']\n",
        "        self.test_size = len(self.test_df)\n",
        "\n",
        "        self._lookup_dict = {'train': (self.train_df, self.train_size),\n",
        "                             'val': (self.val_df, self.validation_size),\n",
        "                             'test': (self.test_df, self.test_size)}\n",
        "\n",
        "        self.set_split('train')\n",
        "\n",
        "        # Class weights\n",
        "        class_counts = surname_df.nationality.value_counts().to_dict()\n",
        "        def sort_key(item):\n",
        "            return self._vectorizer.nationality_vocab.lookup_token(item[0])\n",
        "        sorted_counts = sorted(class_counts.items(), key=sort_key)\n",
        "        frequencies = [count for _, count in sorted_counts]\n",
        "        self.class_weights = 1.0 / torch.tensor(frequencies, dtype=torch.float32)\n",
        "\n",
        "    @classmethod\n",
        "    def load_dataset_and_make_vectorizer(cls, surname_csv):\n",
        "        \"\"\"Load dataset and make a new vectorizer from scratch\n",
        "\n",
        "        Args:\n",
        "            surname_csv (str): location of the dataset\n",
        "        Returns:\n",
        "            an instance of SurnameDataset\n",
        "        \"\"\"\n",
        "        surname_df = pd.read_csv(surname_csv)\n",
        "        train_surname_df = surname_df[surname_df.split=='train']\n",
        "        return cls(surname_df, SurnameVectorizer.from_dataframe(train_surname_df))\n",
        "\n",
        "    @classmethod\n",
        "    def load_dataset_and_load_vectorizer(cls, surname_csv, vectorizer_filepath):\n",
        "        \"\"\"Load dataset and the corresponding vectorizer.\n",
        "        Used in the case in the vectorizer has been cached for re-use\n",
        "\n",
        "        Args:\n",
        "            surname_csv (str): location of the dataset\n",
        "            vectorizer_filepath (str): location of the saved vectorizer\n",
        "        Returns:\n",
        "            an instance of SurnameDataset\n",
        "        \"\"\"\n",
        "        surname_df = pd.read_csv(surname_csv)\n",
        "        vectorizer = cls.load_vectorizer_only(vectorizer_filepath)\n",
        "        return cls(surname_df, vectorizer)\n",
        "\n",
        "    @staticmethod\n",
        "    def load_vectorizer_only(vectorizer_filepath):\n",
        "        \"\"\"a static method for loading the vectorizer from file\n",
        "\n",
        "        Args:\n",
        "            vectorizer_filepath (str): the location of the serialized vectorizer\n",
        "        Returns:\n",
        "            an instance of SurnameVectorizer\n",
        "        \"\"\"\n",
        "        with open(vectorizer_filepath) as fp:\n",
        "            return SurnameVectorizer.from_serializable(json.load(fp))\n",
        "\n",
        "    def save_vectorizer(self, vectorizer_filepath):\n",
        "        \"\"\"saves the vectorizer to disk using json\n",
        "\n",
        "        Args:\n",
        "            vectorizer_filepath (str): the location to save the vectorizer\n",
        "        \"\"\"\n",
        "        with open(vectorizer_filepath, \"w\") as fp:\n",
        "            json.dump(self._vectorizer.to_serializable(), fp)\n",
        "\n",
        "    def get_vectorizer(self):\n",
        "        \"\"\" returns the vectorizer \"\"\"\n",
        "        return self._vectorizer\n",
        "\n",
        "    def set_split(self, split=\"train\"):\n",
        "        \"\"\" selects the splits in the dataset using a column in the dataframe \"\"\"\n",
        "        self._target_split = split\n",
        "        self._target_df, self._target_size = self._lookup_dict[split]\n",
        "\n",
        "    def __len__(self):\n",
        "        return self._target_size\n",
        "\n",
        "    def __getitem__(self, index):\n",
        "        \"\"\"the primary entry point method for PyTorch datasets\n",
        "\n",
        "        Args:\n",
        "            index (int): the index to the data point\n",
        "        Returns:\n",
        "            a dictionary holding the data point's:\n",
        "                features (x_surname)\n",
        "                label (y_nationality)\n",
        "        \"\"\"\n",
        "        row = self._target_df.iloc[index]\n",
        "\n",
        "        surname_vector = \\\n",
        "            self._vectorizer.vectorize(row.surname)\n",
        "\n",
        "        nationality_index = \\\n",
        "            self._vectorizer.nationality_vocab.lookup_token(row.nationality)\n",
        "\n",
        "        return {'x_surname': surname_vector,\n",
        "                'y_nationality': nationality_index}\n",
        "\n",
        "    def get_num_batches(self, batch_size):\n",
        "        \"\"\"Given a batch size, return the number of batches in the dataset\n",
        "\n",
        "        Args:\n",
        "            batch_size (int)\n",
        "        Returns:\n",
        "            number of batches in the dataset\n",
        "        \"\"\"\n",
        "        return len(self) // batch_size\n",
        "\n",
        "\n",
        "def generate_batches(dataset, batch_size, shuffle=True,\n",
        "                     drop_last=True, device=\"cpu\"):\n",
        "    \"\"\"\n",
        "    A generator function which wraps the PyTorch DataLoader. It will\n",
        "      ensure each tensor is on the write device location.\n",
        "    \"\"\"\n",
        "    dataloader = DataLoader(dataset=dataset, batch_size=batch_size,\n",
        "                            shuffle=shuffle, drop_last=drop_last)\n",
        "\n",
        "    for data_dict in dataloader:\n",
        "        out_data_dict = {}\n",
        "        for name, tensor in data_dict.items():\n",
        "            out_data_dict[name] = data_dict[name].to(device)\n",
        "        yield out_data_dict"
      ]
    },
    {
      "cell_type": "markdown",
      "metadata": {
        "id": "9L5yuykmSPqc"
      },
      "source": [
        "## The Model: SurnameClassifier"
      ]
    },
    {
      "cell_type": "code",
      "execution_count": 18,
      "metadata": {
        "id": "aE7cBASTSPqc"
      },
      "outputs": [],
      "source": [
        "class SurnameClassifier(nn.Module):\n",
        "    \"\"\" A 2-layer Multilayer Perceptron for classifying surnames \"\"\"\n",
        "    def __init__(self, input_dim, hidden_dim, output_dim, dropout_rate=0.5):\n",
        "        \"\"\"\n",
        "        Args:\n",
        "            input_dim (int): the size of the input vectors\n",
        "            hidden_dim (int): the output size of the first Linear layer\n",
        "            output_dim (int): the output size of the second Linear layer\n",
        "        \"\"\"\n",
        "        super(SurnameClassifier, self).__init__()\n",
        "        self.fc1 = nn.Linear(input_dim, hidden_dim)\n",
        "        self.dropout = nn.Dropout(dropout_rate)\n",
        "        self.fc2 = nn.Linear(hidden_dim, output_dim)\n",
        "\n",
        "    def forward(self, x_in, dropout=False, apply_softmax=False):\n",
        "        \"\"\"The forward pass of the classifier\n",
        "\n",
        "        Args:\n",
        "            x_in (torch.Tensor): an input data tensor.\n",
        "                x_in.shape should be (batch, input_dim)\n",
        "            apply_softmax (bool): a flag for the softmax activation\n",
        "                should be false if used with the Cross Entropy losses\n",
        "        Returns:\n",
        "            the resulting tensor. tensor.shape should be (batch, output_dim)\n",
        "        \"\"\"\n",
        "        intermediate_vector = F.relu(self.fc1(x_in))\n",
        "        if dropout:\n",
        "            intermediate_vector = self.dropout(intermediate_vector)\n",
        "        prediction_vector = self.fc2(intermediate_vector)\n",
        "\n",
        "        if apply_softmax:\n",
        "            prediction_vector = F.softmax(prediction_vector, dim=1)\n",
        "\n",
        "        return prediction_vector"
      ]
    },
    {
      "cell_type": "markdown",
      "metadata": {
        "id": "5kdGOabNSPqd"
      },
      "source": [
        "## Training Routine"
      ]
    },
    {
      "cell_type": "markdown",
      "metadata": {
        "id": "zthhuX8nSPqd"
      },
      "source": [
        "### Helper functions"
      ]
    },
    {
      "cell_type": "code",
      "execution_count": 19,
      "metadata": {
        "code_folding": [],
        "id": "wiPGZgMVSPqd"
      },
      "outputs": [],
      "source": [
        "def make_train_state(args):\n",
        "    return {'stop_early': False,\n",
        "            'early_stopping_step': 0,\n",
        "            'early_stopping_best_val': 1e8,\n",
        "            #'learning_rate': args.learning_rate,\n",
        "            'epoch_index': 0,\n",
        "            'train_loss': [],\n",
        "            'train_acc': [],\n",
        "            'val_loss': [],\n",
        "            'val_acc': [],\n",
        "            'test_loss': -1,\n",
        "            'test_acc': -1,\n",
        "            'model_filename': args.model_state_file}\n",
        "\n",
        "def update_train_state(args, model, train_state):\n",
        "    \"\"\"Handle the training state updates.\n",
        "\n",
        "    Components:\n",
        "     - Early Stopping: Prevent overfitting.\n",
        "     - Model Checkpoint: Model is saved if the model is better\n",
        "\n",
        "    :param args: main arguments\n",
        "    :param model: model to train\n",
        "    :param train_state: a dictionary representing the training state values\n",
        "    :returns:\n",
        "        a new train_state\n",
        "    \"\"\"\n",
        "\n",
        "    # Save one model at least\n",
        "    if train_state['epoch_index'] == 0:\n",
        "        torch.save(model.state_dict(), train_state['model_filename'])\n",
        "        train_state['stop_early'] = False\n",
        "\n",
        "    # Save model if performance improved\n",
        "    elif train_state['epoch_index'] >= 1:\n",
        "        loss_tm1, loss_t = train_state['val_loss'][-2:]\n",
        "\n",
        "        # If loss worsened\n",
        "        if loss_t >= train_state['early_stopping_best_val']:\n",
        "            # Update step\n",
        "            train_state['early_stopping_step'] += 1\n",
        "        # Loss decreased\n",
        "        else:\n",
        "            # Save the best model\n",
        "            if loss_t < train_state['early_stopping_best_val']:\n",
        "                torch.save(model.state_dict(), train_state['model_filename'])\n",
        "\n",
        "            # Reset early stopping step\n",
        "            train_state['early_stopping_step'] = 0\n",
        "\n",
        "        # Stop early ?\n",
        "        train_state['stop_early'] = \\\n",
        "            train_state['early_stopping_step'] >= args.early_stopping_criteria\n",
        "\n",
        "    return train_state\n",
        "\n",
        "def compute_accuracy(y_pred, y_target):\n",
        "    _, y_pred_indices = y_pred.max(dim=1)\n",
        "    n_correct = torch.eq(y_pred_indices, y_target).sum().item()\n",
        "    return (n_correct, len(y_pred_indices))"
      ]
    },
    {
      "cell_type": "markdown",
      "metadata": {
        "id": "A3QIFi0QSPqd"
      },
      "source": [
        "Some general utiliites to set a random seed (everywhere a random number generator is used) and to deal with directory paths."
      ]
    },
    {
      "cell_type": "code",
      "execution_count": 20,
      "metadata": {
        "id": "Lgzq-vljSPqd"
      },
      "outputs": [],
      "source": [
        "def set_seed_everywhere(seed, cuda):\n",
        "    np.random.seed(seed)\n",
        "    torch.manual_seed(seed)\n",
        "    if cuda:\n",
        "        torch.cuda.manual_seed_all(seed)\n",
        "\n",
        "def handle_dirs(dirpath):\n",
        "    if not os.path.exists(dirpath):\n",
        "        os.makedirs(dirpath)"
      ]
    },
    {
      "cell_type": "markdown",
      "metadata": {
        "id": "GeKYHAyHSPqd"
      },
      "source": [
        "### Settings and some prep work"
      ]
    },
    {
      "cell_type": "code",
      "execution_count": 21,
      "metadata": {
        "id": "4cOK-sk5SPqd",
        "colab": {
          "base_uri": "https://localhost:8080/"
        },
        "outputId": "c87976e4-532e-4dc1-dfad-254063533246"
      },
      "outputs": [
        {
          "output_type": "stream",
          "name": "stdout",
          "text": [
            "Expanded filepaths: \n",
            "\tdata/surname_mlp/vectorizer.json\n",
            "\tdata/surname_mlp/model.pth\n",
            "Using CUDA: False\n"
          ]
        }
      ],
      "source": [
        "args = Namespace(\n",
        "    # Data and path information\n",
        "    surname_csv='https://raw.githubusercontent.com/sgeinitz/DSML4220/main/data/surnames.csv',\n",
        "    vectorizer_file=\"vectorizer.json\",\n",
        "    model_state_file=\"model.pth\",\n",
        "    save_dir=\"data/surname_mlp\",\n",
        "    early_stopping_criteria=5,\n",
        "    seed=42,\n",
        "    # Model hyper parameters, these will all now be taken care of with the wandb sweep\n",
        "    # hidden_dim=300,\n",
        "    # Training  hyper parameters\n",
        "    # num_epochs=100,\n",
        "    # learning_rate=0.001,\n",
        "    # batch_size=64,\n",
        "    # Runtime options\n",
        "    cuda=True,\n",
        "    reload_from_files=False,\n",
        "    expand_filepaths_to_save_dir=True,\n",
        ")\n",
        "\n",
        "if args.expand_filepaths_to_save_dir:\n",
        "    args.vectorizer_file = os.path.join(args.save_dir,\n",
        "                                        args.vectorizer_file)\n",
        "\n",
        "    args.model_state_file = os.path.join(args.save_dir,\n",
        "                                         args.model_state_file)\n",
        "\n",
        "    print(\"Expanded filepaths: \")\n",
        "    print(\"\\t{}\".format(args.vectorizer_file))\n",
        "    print(\"\\t{}\".format(args.model_state_file))\n",
        "\n",
        "# Check CUDA\n",
        "if not torch.cuda.is_available():\n",
        "    args.cuda = False\n",
        "\n",
        "args.device = torch.device(\"cuda\" if args.cuda else \"cpu\")\n",
        "\n",
        "print(\"Using CUDA: {}\".format(args.cuda))\n",
        "\n",
        "\n",
        "# Set seed for reproducibility\n",
        "set_seed_everywhere(args.seed, args.cuda)\n",
        "\n",
        "# handle dirs\n",
        "handle_dirs(args.save_dir)"
      ]
    },
    {
      "cell_type": "markdown",
      "metadata": {
        "id": "iImtdZYzSPqd"
      },
      "source": [
        "### Initializations"
      ]
    },
    {
      "cell_type": "code",
      "execution_count": 22,
      "metadata": {
        "id": "JXfFON3lSPqe",
        "colab": {
          "base_uri": "https://localhost:8080/"
        },
        "outputId": "e6aad368-de4f-43a9-bc01-b670dc3c11ff"
      },
      "outputs": [
        {
          "output_type": "stream",
          "name": "stdout",
          "text": [
            "Creating fresh!\n"
          ]
        }
      ],
      "source": [
        "if args.reload_from_files:\n",
        "    # training from a checkpoint\n",
        "    print(\"Reloading!\")\n",
        "    dataset = SurnameDataset.load_dataset_and_load_vectorizer(args.surname_csv,\n",
        "                                                              args.vectorizer_file)\n",
        "else:\n",
        "    # create dataset and vectorizer\n",
        "    print(\"Creating fresh!\")\n",
        "    dataset = SurnameDataset.load_dataset_and_make_vectorizer(args.surname_csv)\n",
        "    dataset.save_vectorizer(args.vectorizer_file)\n",
        "\n",
        "vectorizer = dataset.get_vectorizer()"
      ]
    },
    {
      "cell_type": "code",
      "execution_count": 23,
      "metadata": {
        "id": "Ikv75M32SPqe"
      },
      "outputs": [],
      "source": [
        "\n",
        "def build_model(hidden_layer_size, dropout):\n",
        "    classifier = SurnameClassifier(input_dim=len(vectorizer.surname_vocab),\n",
        "                                   hidden_dim=hidden_layer_size,\n",
        "                                   output_dim=len(vectorizer.nationality_vocab),\n",
        "                                   dropout_rate=dropout)\n",
        "    return classifier.to(device)\n",
        "\n",
        "\n",
        "def build_optimizer(classifier, optimizer, learning_rate):\n",
        "    if optimizer == \"sgd\":\n",
        "        optimizer = optim.SGD(classifier.parameters(), lr=learning_rate, momentum=0.9)\n",
        "    elif optimizer == \"rmsprop\":\n",
        "        optimizer = optim.RMSprop(classifier.parameters(), lr=learning_rate)\n",
        "    elif optimizer == \"adam\":\n",
        "        optimizer = optim.Adam(classifier.parameters(), lr=learning_rate)\n",
        "    scheduler = optim.lr_scheduler.ReduceLROnPlateau(optimizer=optimizer, mode='min', factor=0.5, patience=1)\n",
        "    return {'opt': optimizer, 'scheduler': scheduler}\n",
        "\n",
        "\n",
        "def train_epoch(classifier, optimizer, scheduler, batch_size):\n",
        "    cumu_loss = 0\n",
        "    n_correct = 0\n",
        "    n_total = 0\n",
        "\n",
        "    # training batches\n",
        "    dataset.set_split('train')\n",
        "    batch_generator = generate_batches(dataset, batch_size, device=args.device)\n",
        "    classifier.train()\n",
        "    for batch_index, batch_dict in enumerate(batch_generator):\n",
        "\n",
        "        optimizer.zero_grad()\n",
        "\n",
        "        # forward step\n",
        "        y_pred = classifier(batch_dict['x_surname'])\n",
        "        loss = loss_func(y_pred, batch_dict['y_nationality'])\n",
        "        cumu_loss += loss.item()\n",
        "\n",
        "        # backward pass\n",
        "        loss.backward()\n",
        "        optimizer.step()\n",
        "\n",
        "        wandb.log({\"train batch loss\": loss.item()})\n",
        "        results = compute_accuracy(y_pred, batch_dict['y_nationality'])\n",
        "        n_correct += results[0]\n",
        "        n_total += results[1]\n",
        "    wandb.log({\"accuracy_train\": n_correct / n_total})\n",
        "\n",
        "    train_loss = cumu_loss / (len(dataset) / batch_size)\n",
        "    cumu_loss = 0\n",
        "    n_correct = 0\n",
        "    n_total = 0\n",
        "\n",
        "    # validation batches\n",
        "    dataset.set_split('val')\n",
        "    batch_generator = generate_batches(dataset, batch_size, device=args.device)\n",
        "    classifier.eval()\n",
        "    for batch_index, batch_dict in enumerate(batch_generator):\n",
        "\n",
        "        y_pred = classifier(batch_dict['x_surname'])\n",
        "\n",
        "        loss = loss_func(y_pred, batch_dict['y_nationality'])\n",
        "        cumu_loss += loss.item()\n",
        "\n",
        "        wandb.log({\"val batch loss\": loss.item()})\n",
        "        results = compute_accuracy(y_pred, batch_dict['y_nationality'])\n",
        "        n_correct += results[0]\n",
        "        n_total += results[1]\n",
        "    wandb.log({\"accuracy_val\": n_correct / n_total})\n",
        "\n",
        "\n",
        "    val_loss = cumu_loss / (len(dataset) / batch_size)\n",
        "    scheduler.step(val_loss)\n",
        "    return (train_loss, val_loss)"
      ]
    },
    {
      "cell_type": "markdown",
      "metadata": {
        "id": "DwSlHjULSPqe"
      },
      "source": [
        "### Training loop\n",
        "\n",
        "Note that you need to fill in the `parameters_dict` with the different hyperparameter/configuration settings that you want to try."
      ]
    },
    {
      "cell_type": "code",
      "execution_count": 26,
      "metadata": {
        "id": "YaKXoCB0SPqe"
      },
      "outputs": [],
      "source": [
        "loss_func = nn.CrossEntropyLoss(dataset.class_weights)\n",
        "\n",
        "parameters_dict = {\n",
        "    'optimizer': {\n",
        "        'values': ['adam', 'rmsprop', 'sgd']\n",
        "    },\n",
        "    'hidden_layer_size': {\n",
        "        'values': [50, 100, 200, 500]\n",
        "    },\n",
        "    'dropout': {\n",
        "          'values': [0.3, 0.5, 0.7]\n",
        "    },\n",
        "    'batch_size': {\n",
        "          'values': [8, 16, 64, 128]\n",
        "    },\n",
        "    'learning_rate': {\n",
        "          'values': [0.001, 0.005, 0.01, 0.05]\n",
        "    },\n",
        "    # 'seed': {\n",
        "    #      'values' : []\n",
        "    # }\n",
        "\n",
        "    # try adding another parameter for random seed to see how much it affects results (relative to other hyperparameters)\n",
        "\n",
        "    'epochs': {    # notice that this does not vary (i.e. will not be swept), so it uses one fixed \"value\" (not \"values\")\n",
        "          'value': 100\n",
        "    },\n",
        "}\n",
        "\n",
        "sweep_config['parameters'] = parameters_dict\n",
        "\n",
        "device = torch.device(\"cuda\" if torch.cuda.is_available() else \"cpu\")\n",
        "\n",
        "def train(config=None):\n",
        "    # Initialize a new wandb run\n",
        "    with wandb.init(config=config):\n",
        "        # Set random seed using config.seed\n",
        "        # If called by wandb.agent, as below,\n",
        "        # this config will be set by Sweep Controller\n",
        "        config = wandb.config\n",
        "\n",
        "        train_state = make_train_state(args)\n",
        "\n",
        "        #loader = build_dataset(config.batch_size)\n",
        "        classifier = build_model(config.hidden_layer_size, config.dropout)\n",
        "        optimizer = build_optimizer(classifier, config.optimizer, config.learning_rate)\n",
        "\n",
        "        for epoch in range(config.epochs):\n",
        "\n",
        "            # train epoch\n",
        "            avg_loss = train_epoch(classifier, optimizer['opt'], optimizer['scheduler'], batch_size=config.batch_size)\n",
        "            wandb.log({\"train_loss\": avg_loss[0], \"val_loss\": avg_loss[1], \"epoch\": epoch})\n"
      ]
    },
    {
      "cell_type": "markdown",
      "metadata": {
        "id": "xHn73xe7SPqe"
      },
      "source": [
        "You will need to add your name or a unique identifier to the `project` parameter below."
      ]
    },
    {
      "cell_type": "code",
      "execution_count": 33,
      "metadata": {
        "id": "M8rCaCNiSPqe",
        "colab": {
          "base_uri": "https://localhost:8080/",
          "height": 1000
        },
        "outputId": "5fca6ebb-e21d-4ba1-f284-59643d9b1f24"
      },
      "outputs": [
        {
          "output_type": "stream",
          "name": "stdout",
          "text": [
            "Create sweep with ID: 8g1vjocn\n",
            "Sweep URL: https://wandb.ai/DSML4220/surname-mlp-ALEX_CERVANTES/sweeps/8g1vjocn\n"
          ]
        },
        {
          "output_type": "stream",
          "name": "stderr",
          "text": [
            "\u001b[34m\u001b[1mwandb\u001b[0m: Agent Starting Run: qf5tdcul with config:\n",
            "\u001b[34m\u001b[1mwandb\u001b[0m: \tbatch_size: 8\n",
            "\u001b[34m\u001b[1mwandb\u001b[0m: \tdropout: 0.7\n",
            "\u001b[34m\u001b[1mwandb\u001b[0m: \tepochs: 100\n",
            "\u001b[34m\u001b[1mwandb\u001b[0m: \thidden_layer_size: 500\n",
            "\u001b[34m\u001b[1mwandb\u001b[0m: \tlearning_rate: 0.05\n",
            "\u001b[34m\u001b[1mwandb\u001b[0m: \toptimizer: sgd\n"
          ]
        },
        {
          "output_type": "display_data",
          "data": {
            "text/plain": [
              "<IPython.core.display.HTML object>"
            ],
            "text/html": [
              "Tracking run with wandb version 0.19.7"
            ]
          },
          "metadata": {}
        },
        {
          "output_type": "display_data",
          "data": {
            "text/plain": [
              "<IPython.core.display.HTML object>"
            ],
            "text/html": [
              "Run data is saved locally in <code>/content/wandb/run-20250304_180329-qf5tdcul</code>"
            ]
          },
          "metadata": {}
        },
        {
          "output_type": "display_data",
          "data": {
            "text/plain": [
              "<IPython.core.display.HTML object>"
            ],
            "text/html": [
              "Syncing run <strong><a href='https://wandb.ai/DSML4220/surname-mlp-ALEX_CERVANTES/runs/qf5tdcul' target=\"_blank\">clean-sweep-1</a></strong> to <a href='https://wandb.ai/DSML4220/surname-mlp-ALEX_CERVANTES' target=\"_blank\">Weights & Biases</a> (<a href='https://wandb.me/developer-guide' target=\"_blank\">docs</a>)<br>Sweep page: <a href='https://wandb.ai/DSML4220/surname-mlp-ALEX_CERVANTES/sweeps/8g1vjocn' target=\"_blank\">https://wandb.ai/DSML4220/surname-mlp-ALEX_CERVANTES/sweeps/8g1vjocn</a>"
            ]
          },
          "metadata": {}
        },
        {
          "output_type": "display_data",
          "data": {
            "text/plain": [
              "<IPython.core.display.HTML object>"
            ],
            "text/html": [
              " View project at <a href='https://wandb.ai/DSML4220/surname-mlp-ALEX_CERVANTES' target=\"_blank\">https://wandb.ai/DSML4220/surname-mlp-ALEX_CERVANTES</a>"
            ]
          },
          "metadata": {}
        },
        {
          "output_type": "display_data",
          "data": {
            "text/plain": [
              "<IPython.core.display.HTML object>"
            ],
            "text/html": [
              " View sweep at <a href='https://wandb.ai/DSML4220/surname-mlp-ALEX_CERVANTES/sweeps/8g1vjocn' target=\"_blank\">https://wandb.ai/DSML4220/surname-mlp-ALEX_CERVANTES/sweeps/8g1vjocn</a>"
            ]
          },
          "metadata": {}
        },
        {
          "output_type": "display_data",
          "data": {
            "text/plain": [
              "<IPython.core.display.HTML object>"
            ],
            "text/html": [
              " View run at <a href='https://wandb.ai/DSML4220/surname-mlp-ALEX_CERVANTES/runs/qf5tdcul' target=\"_blank\">https://wandb.ai/DSML4220/surname-mlp-ALEX_CERVANTES/runs/qf5tdcul</a>"
            ]
          },
          "metadata": {}
        },
        {
          "output_type": "display_data",
          "data": {
            "text/plain": [
              "<IPython.core.display.HTML object>"
            ],
            "text/html": []
          },
          "metadata": {}
        },
        {
          "output_type": "display_data",
          "data": {
            "text/plain": [
              "<IPython.core.display.HTML object>"
            ],
            "text/html": [
              "<br>    <style><br>        .wandb-row {<br>            display: flex;<br>            flex-direction: row;<br>            flex-wrap: wrap;<br>            justify-content: flex-start;<br>            width: 100%;<br>        }<br>        .wandb-col {<br>            display: flex;<br>            flex-direction: column;<br>            flex-basis: 100%;<br>            flex: 1;<br>            padding: 10px;<br>        }<br>    </style><br><div class=\"wandb-row\"><div class=\"wandb-col\"><h3>Run history:</h3><br/><table class=\"wandb\"><tr><td>accuracy_train</td><td>▁▃▅▇▇███████████████████████████████████</td></tr><tr><td>accuracy_val</td><td>▁▄▇█████████████████████████████████████</td></tr><tr><td>epoch</td><td>▁▁▁▁▁▂▂▂▂▂▃▃▃▃▃▄▄▄▄▅▅▅▅▅▅▆▆▆▆▆▆▇▇▇▇▇▇███</td></tr><tr><td>train batch loss</td><td>█▅▄▃▅▁▂▆▁▁▁▂▃▂▃▁▃▂▁▂▄▃▃▂▂▂▁▄▆▂▂▁▁▂▂▅▁▃▂▂</td></tr><tr><td>train_loss</td><td>█▇▅▄▂▂▁▁▁▁▁▁▁▁▁▁▁▁▁▁▁▁▁▁▁▁▁▁▁▁▁▁▁▁▁▁▁▁▁▁</td></tr><tr><td>val batch loss</td><td>▂▅▄▂▃▂▄▃▂▁█▁▄▂▅▃▄▃▁▃▃▆▃▃▂▇▃▃▆▃▃▁█▄▂▃▂▁▃▅</td></tr><tr><td>val_loss</td><td>▄▄▁▃▄▄▆▄▅▆▇▆▆▇▆▅▇▅▆▆▆▅▆▅▇▇▇▇▆▇▇▅▆▆█▅▆▆▇▇</td></tr></table><br/></div><div class=\"wandb-col\"><h3>Run summary:</h3><br/><table class=\"wandb\"><tr><td>accuracy_train</td><td>0.82005</td></tr><tr><td>accuracy_val</td><td>0.5939</td></tr><tr><td>epoch</td><td>99</td></tr><tr><td>train batch loss</td><td>0.47059</td></tr><tr><td>train_loss</td><td>0.38417</td></tr><tr><td>val batch loss</td><td>2.17679</td></tr><tr><td>val_loss</td><td>2.42176</td></tr></table><br/></div></div>"
            ]
          },
          "metadata": {}
        },
        {
          "output_type": "display_data",
          "data": {
            "text/plain": [
              "<IPython.core.display.HTML object>"
            ],
            "text/html": [
              " View run <strong style=\"color:#cdcd00\">clean-sweep-1</strong> at: <a href='https://wandb.ai/DSML4220/surname-mlp-ALEX_CERVANTES/runs/qf5tdcul' target=\"_blank\">https://wandb.ai/DSML4220/surname-mlp-ALEX_CERVANTES/runs/qf5tdcul</a><br> View project at: <a href='https://wandb.ai/DSML4220/surname-mlp-ALEX_CERVANTES' target=\"_blank\">https://wandb.ai/DSML4220/surname-mlp-ALEX_CERVANTES</a><br>Synced 5 W&B file(s), 0 media file(s), 0 artifact file(s) and 0 other file(s)"
            ]
          },
          "metadata": {}
        },
        {
          "output_type": "display_data",
          "data": {
            "text/plain": [
              "<IPython.core.display.HTML object>"
            ],
            "text/html": [
              "Find logs at: <code>./wandb/run-20250304_180329-qf5tdcul/logs</code>"
            ]
          },
          "metadata": {}
        },
        {
          "output_type": "stream",
          "name": "stderr",
          "text": [
            "\u001b[34m\u001b[1mwandb\u001b[0m: Sweep Agent: Waiting for job.\n",
            "\u001b[34m\u001b[1mwandb\u001b[0m: Job received.\n",
            "\u001b[34m\u001b[1mwandb\u001b[0m: Agent Starting Run: ht80akyp with config:\n",
            "\u001b[34m\u001b[1mwandb\u001b[0m: \tbatch_size: 64\n",
            "\u001b[34m\u001b[1mwandb\u001b[0m: \tdropout: 0.3\n",
            "\u001b[34m\u001b[1mwandb\u001b[0m: \tepochs: 100\n",
            "\u001b[34m\u001b[1mwandb\u001b[0m: \thidden_layer_size: 100\n",
            "\u001b[34m\u001b[1mwandb\u001b[0m: \tlearning_rate: 0.001\n",
            "\u001b[34m\u001b[1mwandb\u001b[0m: \toptimizer: adam\n"
          ]
        },
        {
          "output_type": "display_data",
          "data": {
            "text/plain": [
              "<IPython.core.display.HTML object>"
            ],
            "text/html": [
              "Tracking run with wandb version 0.19.7"
            ]
          },
          "metadata": {}
        },
        {
          "output_type": "display_data",
          "data": {
            "text/plain": [
              "<IPython.core.display.HTML object>"
            ],
            "text/html": [
              "Run data is saved locally in <code>/content/wandb/run-20250304_180627-ht80akyp</code>"
            ]
          },
          "metadata": {}
        },
        {
          "output_type": "display_data",
          "data": {
            "text/plain": [
              "<IPython.core.display.HTML object>"
            ],
            "text/html": [
              "Syncing run <strong><a href='https://wandb.ai/DSML4220/surname-mlp-ALEX_CERVANTES/runs/ht80akyp' target=\"_blank\">generous-sweep-2</a></strong> to <a href='https://wandb.ai/DSML4220/surname-mlp-ALEX_CERVANTES' target=\"_blank\">Weights & Biases</a> (<a href='https://wandb.me/developer-guide' target=\"_blank\">docs</a>)<br>Sweep page: <a href='https://wandb.ai/DSML4220/surname-mlp-ALEX_CERVANTES/sweeps/8g1vjocn' target=\"_blank\">https://wandb.ai/DSML4220/surname-mlp-ALEX_CERVANTES/sweeps/8g1vjocn</a>"
            ]
          },
          "metadata": {}
        },
        {
          "output_type": "display_data",
          "data": {
            "text/plain": [
              "<IPython.core.display.HTML object>"
            ],
            "text/html": [
              " View project at <a href='https://wandb.ai/DSML4220/surname-mlp-ALEX_CERVANTES' target=\"_blank\">https://wandb.ai/DSML4220/surname-mlp-ALEX_CERVANTES</a>"
            ]
          },
          "metadata": {}
        },
        {
          "output_type": "display_data",
          "data": {
            "text/plain": [
              "<IPython.core.display.HTML object>"
            ],
            "text/html": [
              " View sweep at <a href='https://wandb.ai/DSML4220/surname-mlp-ALEX_CERVANTES/sweeps/8g1vjocn' target=\"_blank\">https://wandb.ai/DSML4220/surname-mlp-ALEX_CERVANTES/sweeps/8g1vjocn</a>"
            ]
          },
          "metadata": {}
        },
        {
          "output_type": "display_data",
          "data": {
            "text/plain": [
              "<IPython.core.display.HTML object>"
            ],
            "text/html": [
              " View run at <a href='https://wandb.ai/DSML4220/surname-mlp-ALEX_CERVANTES/runs/ht80akyp' target=\"_blank\">https://wandb.ai/DSML4220/surname-mlp-ALEX_CERVANTES/runs/ht80akyp</a>"
            ]
          },
          "metadata": {}
        },
        {
          "output_type": "display_data",
          "data": {
            "text/plain": [
              "<IPython.core.display.HTML object>"
            ],
            "text/html": []
          },
          "metadata": {}
        },
        {
          "output_type": "display_data",
          "data": {
            "text/plain": [
              "<IPython.core.display.HTML object>"
            ],
            "text/html": [
              "<br>    <style><br>        .wandb-row {<br>            display: flex;<br>            flex-direction: row;<br>            flex-wrap: wrap;<br>            justify-content: flex-start;<br>            width: 100%;<br>        }<br>        .wandb-col {<br>            display: flex;<br>            flex-direction: column;<br>            flex-basis: 100%;<br>            flex: 1;<br>            padding: 10px;<br>        }<br>    </style><br><div class=\"wandb-row\"><div class=\"wandb-col\"><h3>Run history:</h3><br/><table class=\"wandb\"><tr><td>accuracy_train</td><td>▁▅▆▆▇▇▇█████████████████████████████████</td></tr><tr><td>accuracy_val</td><td>▁▂▃▆▇▆▆▇▇█▇████▇▇██████▇████████████▇██▇</td></tr><tr><td>epoch</td><td>▁▁▁▁▂▂▂▂▂▂▃▃▃▄▄▄▄▄▄▅▅▅▅▅▆▆▆▆▆▇▇▇▇▇▇█████</td></tr><tr><td>train batch loss</td><td>█▆▄▃▄▃▃▃▂▂▁▃▂▄▁▃▂▄▄▂▃▂▄▂▄▃▄▃▃▂▁▄▂▄▃▅▃▂▂▁</td></tr><tr><td>train_loss</td><td>█▃▂▂▂▁▁▁▁▁▁▁▁▁▁▁▁▁▁▁▁▁▁▁▁▁▁▁▁▁▁▁▁▁▁▁▁▁▁▁</td></tr><tr><td>val batch loss</td><td>██▇▆▄▅▃▃▄▁▂▃▅▇▃▅▃▄▂▂▅▆▂▄▂▄▅▃▄▅▃▄▃▁▃▆▆▅▅▇</td></tr><tr><td>val_loss</td><td>█▅▃▂▂▂▁▁▁▁▁▁▁▁▁▁▂▁▁▁▁▁▁▁▁▁▁▁▁▁▁▁▁▁▁▁▁▁▁▁</td></tr></table><br/></div><div class=\"wandb-col\"><h3>Run summary:</h3><br/><table class=\"wandb\"><tr><td>accuracy_train</td><td>0.47214</td></tr><tr><td>accuracy_val</td><td>0.41875</td></tr><tr><td>epoch</td><td>99</td></tr><tr><td>train batch loss</td><td>1.30565</td></tr><tr><td>train_loss</td><td>1.42222</td></tr><tr><td>val batch loss</td><td>2.04289</td></tr><tr><td>val_loss</td><td>1.80487</td></tr></table><br/></div></div>"
            ]
          },
          "metadata": {}
        },
        {
          "output_type": "display_data",
          "data": {
            "text/plain": [
              "<IPython.core.display.HTML object>"
            ],
            "text/html": [
              " View run <strong style=\"color:#cdcd00\">generous-sweep-2</strong> at: <a href='https://wandb.ai/DSML4220/surname-mlp-ALEX_CERVANTES/runs/ht80akyp' target=\"_blank\">https://wandb.ai/DSML4220/surname-mlp-ALEX_CERVANTES/runs/ht80akyp</a><br> View project at: <a href='https://wandb.ai/DSML4220/surname-mlp-ALEX_CERVANTES' target=\"_blank\">https://wandb.ai/DSML4220/surname-mlp-ALEX_CERVANTES</a><br>Synced 5 W&B file(s), 0 media file(s), 0 artifact file(s) and 0 other file(s)"
            ]
          },
          "metadata": {}
        },
        {
          "output_type": "display_data",
          "data": {
            "text/plain": [
              "<IPython.core.display.HTML object>"
            ],
            "text/html": [
              "Find logs at: <code>./wandb/run-20250304_180627-ht80akyp/logs</code>"
            ]
          },
          "metadata": {}
        },
        {
          "output_type": "stream",
          "name": "stderr",
          "text": [
            "\u001b[34m\u001b[1mwandb\u001b[0m: Agent Starting Run: 6v4zrmne with config:\n",
            "\u001b[34m\u001b[1mwandb\u001b[0m: \tbatch_size: 8\n",
            "\u001b[34m\u001b[1mwandb\u001b[0m: \tdropout: 0.7\n",
            "\u001b[34m\u001b[1mwandb\u001b[0m: \tepochs: 100\n",
            "\u001b[34m\u001b[1mwandb\u001b[0m: \thidden_layer_size: 200\n",
            "\u001b[34m\u001b[1mwandb\u001b[0m: \tlearning_rate: 0.005\n",
            "\u001b[34m\u001b[1mwandb\u001b[0m: \toptimizer: rmsprop\n"
          ]
        },
        {
          "output_type": "display_data",
          "data": {
            "text/plain": [
              "<IPython.core.display.HTML object>"
            ],
            "text/html": [
              "Tracking run with wandb version 0.19.7"
            ]
          },
          "metadata": {}
        },
        {
          "output_type": "display_data",
          "data": {
            "text/plain": [
              "<IPython.core.display.HTML object>"
            ],
            "text/html": [
              "Run data is saved locally in <code>/content/wandb/run-20250304_180738-6v4zrmne</code>"
            ]
          },
          "metadata": {}
        },
        {
          "output_type": "display_data",
          "data": {
            "text/plain": [
              "<IPython.core.display.HTML object>"
            ],
            "text/html": [
              "Syncing run <strong><a href='https://wandb.ai/DSML4220/surname-mlp-ALEX_CERVANTES/runs/6v4zrmne' target=\"_blank\">rare-sweep-3</a></strong> to <a href='https://wandb.ai/DSML4220/surname-mlp-ALEX_CERVANTES' target=\"_blank\">Weights & Biases</a> (<a href='https://wandb.me/developer-guide' target=\"_blank\">docs</a>)<br>Sweep page: <a href='https://wandb.ai/DSML4220/surname-mlp-ALEX_CERVANTES/sweeps/8g1vjocn' target=\"_blank\">https://wandb.ai/DSML4220/surname-mlp-ALEX_CERVANTES/sweeps/8g1vjocn</a>"
            ]
          },
          "metadata": {}
        },
        {
          "output_type": "display_data",
          "data": {
            "text/plain": [
              "<IPython.core.display.HTML object>"
            ],
            "text/html": [
              " View project at <a href='https://wandb.ai/DSML4220/surname-mlp-ALEX_CERVANTES' target=\"_blank\">https://wandb.ai/DSML4220/surname-mlp-ALEX_CERVANTES</a>"
            ]
          },
          "metadata": {}
        },
        {
          "output_type": "display_data",
          "data": {
            "text/plain": [
              "<IPython.core.display.HTML object>"
            ],
            "text/html": [
              " View sweep at <a href='https://wandb.ai/DSML4220/surname-mlp-ALEX_CERVANTES/sweeps/8g1vjocn' target=\"_blank\">https://wandb.ai/DSML4220/surname-mlp-ALEX_CERVANTES/sweeps/8g1vjocn</a>"
            ]
          },
          "metadata": {}
        },
        {
          "output_type": "display_data",
          "data": {
            "text/plain": [
              "<IPython.core.display.HTML object>"
            ],
            "text/html": [
              " View run at <a href='https://wandb.ai/DSML4220/surname-mlp-ALEX_CERVANTES/runs/6v4zrmne' target=\"_blank\">https://wandb.ai/DSML4220/surname-mlp-ALEX_CERVANTES/runs/6v4zrmne</a>"
            ]
          },
          "metadata": {}
        },
        {
          "output_type": "display_data",
          "data": {
            "text/plain": [
              "<IPython.core.display.HTML object>"
            ],
            "text/html": []
          },
          "metadata": {}
        },
        {
          "output_type": "display_data",
          "data": {
            "text/plain": [
              "<IPython.core.display.HTML object>"
            ],
            "text/html": [
              "<br>    <style><br>        .wandb-row {<br>            display: flex;<br>            flex-direction: row;<br>            flex-wrap: wrap;<br>            justify-content: flex-start;<br>            width: 100%;<br>        }<br>        .wandb-col {<br>            display: flex;<br>            flex-direction: column;<br>            flex-basis: 100%;<br>            flex: 1;<br>            padding: 10px;<br>        }<br>    </style><br><div class=\"wandb-row\"><div class=\"wandb-col\"><h3>Run history:</h3><br/><table class=\"wandb\"><tr><td>accuracy_train</td><td>▁▃▅▆▇███████████████████████████████████</td></tr><tr><td>accuracy_val</td><td>▁▄▆█████████████████████████████████████</td></tr><tr><td>epoch</td><td>▁▁▁▁▁▂▂▂▂▂▃▃▃▃▃▄▄▄▄▄▅▅▅▅▅▆▆▆▆▆▆▆▇▇▇▇▇▇██</td></tr><tr><td>train batch loss</td><td>▅▆▄▃▅▅▄▂▁▄▅▃▁▁▇▁▄▄▂▄▃▂▅▃▁▄▂▂▅█▁▅▄▃▂▂▂▃▃▃</td></tr><tr><td>train_loss</td><td>█▇▃▃▂▂▁▁▁▁▂▁▁▁▁▁▁▁▁▂▁▁▁▁▁▁▂▁▂▁▁▁▁▁▁▁▁▁▁▁</td></tr><tr><td>val batch loss</td><td>▃▃▆▄▆▂▂▄▃▂▁▄▂▃▂▂▂▂▇▄▂▂█▃▁▂▂▃▃▇▄▁▁▆█▃▂▁▃▂</td></tr><tr><td>val_loss</td><td>▃▂▁▃▆▇▄▇▇▆█▅▅▆▇▇▆▇▆▇▆▅▇▅▆▆▇▇▇▆█▇▆▅▆▇▇▅▇▅</td></tr></table><br/></div><div class=\"wandb-col\"><h3>Run summary:</h3><br/><table class=\"wandb\"><tr><td>accuracy_train</td><td>0.78008</td></tr><tr><td>accuracy_val</td><td>0.58902</td></tr><tr><td>epoch</td><td>99</td></tr><tr><td>train batch loss</td><td>0.2821</td></tr><tr><td>train_loss</td><td>0.5383</td></tr><tr><td>val batch loss</td><td>1.23078</td></tr><tr><td>val_loss</td><td>1.99796</td></tr></table><br/></div></div>"
            ]
          },
          "metadata": {}
        },
        {
          "output_type": "display_data",
          "data": {
            "text/plain": [
              "<IPython.core.display.HTML object>"
            ],
            "text/html": [
              " View run <strong style=\"color:#cdcd00\">rare-sweep-3</strong> at: <a href='https://wandb.ai/DSML4220/surname-mlp-ALEX_CERVANTES/runs/6v4zrmne' target=\"_blank\">https://wandb.ai/DSML4220/surname-mlp-ALEX_CERVANTES/runs/6v4zrmne</a><br> View project at: <a href='https://wandb.ai/DSML4220/surname-mlp-ALEX_CERVANTES' target=\"_blank\">https://wandb.ai/DSML4220/surname-mlp-ALEX_CERVANTES</a><br>Synced 5 W&B file(s), 0 media file(s), 0 artifact file(s) and 0 other file(s)"
            ]
          },
          "metadata": {}
        },
        {
          "output_type": "display_data",
          "data": {
            "text/plain": [
              "<IPython.core.display.HTML object>"
            ],
            "text/html": [
              "Find logs at: <code>./wandb/run-20250304_180738-6v4zrmne/logs</code>"
            ]
          },
          "metadata": {}
        },
        {
          "output_type": "stream",
          "name": "stderr",
          "text": [
            "\u001b[34m\u001b[1mwandb\u001b[0m: Agent Starting Run: oll6dsl9 with config:\n",
            "\u001b[34m\u001b[1mwandb\u001b[0m: \tbatch_size: 8\n",
            "\u001b[34m\u001b[1mwandb\u001b[0m: \tdropout: 0.3\n",
            "\u001b[34m\u001b[1mwandb\u001b[0m: \tepochs: 100\n",
            "\u001b[34m\u001b[1mwandb\u001b[0m: \thidden_layer_size: 500\n",
            "\u001b[34m\u001b[1mwandb\u001b[0m: \tlearning_rate: 0.01\n",
            "\u001b[34m\u001b[1mwandb\u001b[0m: \toptimizer: rmsprop\n"
          ]
        },
        {
          "output_type": "display_data",
          "data": {
            "text/plain": [
              "<IPython.core.display.HTML object>"
            ],
            "text/html": [
              "Tracking run with wandb version 0.19.7"
            ]
          },
          "metadata": {}
        },
        {
          "output_type": "display_data",
          "data": {
            "text/plain": [
              "<IPython.core.display.HTML object>"
            ],
            "text/html": [
              "Run data is saved locally in <code>/content/wandb/run-20250304_181035-oll6dsl9</code>"
            ]
          },
          "metadata": {}
        },
        {
          "output_type": "display_data",
          "data": {
            "text/plain": [
              "<IPython.core.display.HTML object>"
            ],
            "text/html": [
              "Syncing run <strong><a href='https://wandb.ai/DSML4220/surname-mlp-ALEX_CERVANTES/runs/oll6dsl9' target=\"_blank\">worldly-sweep-4</a></strong> to <a href='https://wandb.ai/DSML4220/surname-mlp-ALEX_CERVANTES' target=\"_blank\">Weights & Biases</a> (<a href='https://wandb.me/developer-guide' target=\"_blank\">docs</a>)<br>Sweep page: <a href='https://wandb.ai/DSML4220/surname-mlp-ALEX_CERVANTES/sweeps/8g1vjocn' target=\"_blank\">https://wandb.ai/DSML4220/surname-mlp-ALEX_CERVANTES/sweeps/8g1vjocn</a>"
            ]
          },
          "metadata": {}
        },
        {
          "output_type": "display_data",
          "data": {
            "text/plain": [
              "<IPython.core.display.HTML object>"
            ],
            "text/html": [
              " View project at <a href='https://wandb.ai/DSML4220/surname-mlp-ALEX_CERVANTES' target=\"_blank\">https://wandb.ai/DSML4220/surname-mlp-ALEX_CERVANTES</a>"
            ]
          },
          "metadata": {}
        },
        {
          "output_type": "display_data",
          "data": {
            "text/plain": [
              "<IPython.core.display.HTML object>"
            ],
            "text/html": [
              " View sweep at <a href='https://wandb.ai/DSML4220/surname-mlp-ALEX_CERVANTES/sweeps/8g1vjocn' target=\"_blank\">https://wandb.ai/DSML4220/surname-mlp-ALEX_CERVANTES/sweeps/8g1vjocn</a>"
            ]
          },
          "metadata": {}
        },
        {
          "output_type": "display_data",
          "data": {
            "text/plain": [
              "<IPython.core.display.HTML object>"
            ],
            "text/html": [
              " View run at <a href='https://wandb.ai/DSML4220/surname-mlp-ALEX_CERVANTES/runs/oll6dsl9' target=\"_blank\">https://wandb.ai/DSML4220/surname-mlp-ALEX_CERVANTES/runs/oll6dsl9</a>"
            ]
          },
          "metadata": {}
        },
        {
          "output_type": "display_data",
          "data": {
            "text/plain": [
              "<IPython.core.display.HTML object>"
            ],
            "text/html": []
          },
          "metadata": {}
        },
        {
          "output_type": "display_data",
          "data": {
            "text/plain": [
              "<IPython.core.display.HTML object>"
            ],
            "text/html": [
              "<br>    <style><br>        .wandb-row {<br>            display: flex;<br>            flex-direction: row;<br>            flex-wrap: wrap;<br>            justify-content: flex-start;<br>            width: 100%;<br>        }<br>        .wandb-col {<br>            display: flex;<br>            flex-direction: column;<br>            flex-basis: 100%;<br>            flex: 1;<br>            padding: 10px;<br>        }<br>    </style><br><div class=\"wandb-row\"><div class=\"wandb-col\"><h3>Run history:</h3><br/><table class=\"wandb\"><tr><td>accuracy_train</td><td>▁▂▄▅▆███████████████████████████████████</td></tr><tr><td>accuracy_val</td><td>▁▇██████████████████████████████████████</td></tr><tr><td>epoch</td><td>▁▁▁▁▂▂▂▂▂▂▃▃▃▃▄▄▄▄▄▄▄▅▅▅▅▅▅▅▆▆▇▇▇▇▇▇████</td></tr><tr><td>train batch loss</td><td>█▅▄▂▂▂▁▁▂▂▁▂▂▁▁▁▁▂▁▁▂▂▂▂▁▁▁▃▁▁▂▂▂▁▁▃▁▁▄▁</td></tr><tr><td>train_loss</td><td>█▆▄▄▂▂▁▁▁▁▁▁▁▁▁▁▁▁▁▁▁▁▁▁▁▁▁▁▁▁▁▁▁▁▁▁▁▁▁▁</td></tr><tr><td>val batch loss</td><td>▃▂▂▂▄▁▄▂▂▂▆▂▂▂▂▂▃▆▄▃▂▂▂▆▁▂▂▄▂▇▁▂▃▃▂▁▃▁▅█</td></tr><tr><td>val_loss</td><td>▁▄▅▅▇█▆█▇▆▇▇▆▇▇▆▇▇█▇█▇▇▇▆█▇▇█▇▇▇█▆█▇████</td></tr></table><br/></div><div class=\"wandb-col\"><h3>Run summary:</h3><br/><table class=\"wandb\"><tr><td>accuracy_train</td><td>0.87513</td></tr><tr><td>accuracy_val</td><td>0.62805</td></tr><tr><td>epoch</td><td>99</td></tr><tr><td>train batch loss</td><td>0.45035</td></tr><tr><td>train_loss</td><td>0.29163</td></tr><tr><td>val batch loss</td><td>2.99146</td></tr><tr><td>val_loss</td><td>2.83649</td></tr></table><br/></div></div>"
            ]
          },
          "metadata": {}
        },
        {
          "output_type": "display_data",
          "data": {
            "text/plain": [
              "<IPython.core.display.HTML object>"
            ],
            "text/html": [
              " View run <strong style=\"color:#cdcd00\">worldly-sweep-4</strong> at: <a href='https://wandb.ai/DSML4220/surname-mlp-ALEX_CERVANTES/runs/oll6dsl9' target=\"_blank\">https://wandb.ai/DSML4220/surname-mlp-ALEX_CERVANTES/runs/oll6dsl9</a><br> View project at: <a href='https://wandb.ai/DSML4220/surname-mlp-ALEX_CERVANTES' target=\"_blank\">https://wandb.ai/DSML4220/surname-mlp-ALEX_CERVANTES</a><br>Synced 5 W&B file(s), 0 media file(s), 0 artifact file(s) and 0 other file(s)"
            ]
          },
          "metadata": {}
        },
        {
          "output_type": "display_data",
          "data": {
            "text/plain": [
              "<IPython.core.display.HTML object>"
            ],
            "text/html": [
              "Find logs at: <code>./wandb/run-20250304_181035-oll6dsl9/logs</code>"
            ]
          },
          "metadata": {}
        },
        {
          "output_type": "stream",
          "name": "stderr",
          "text": [
            "\u001b[34m\u001b[1mwandb\u001b[0m: Agent Starting Run: q1fe9g35 with config:\n",
            "\u001b[34m\u001b[1mwandb\u001b[0m: \tbatch_size: 128\n",
            "\u001b[34m\u001b[1mwandb\u001b[0m: \tdropout: 0.5\n",
            "\u001b[34m\u001b[1mwandb\u001b[0m: \tepochs: 100\n",
            "\u001b[34m\u001b[1mwandb\u001b[0m: \thidden_layer_size: 50\n",
            "\u001b[34m\u001b[1mwandb\u001b[0m: \tlearning_rate: 0.01\n",
            "\u001b[34m\u001b[1mwandb\u001b[0m: \toptimizer: rmsprop\n"
          ]
        },
        {
          "output_type": "display_data",
          "data": {
            "text/plain": [
              "<IPython.core.display.HTML object>"
            ],
            "text/html": [
              "Tracking run with wandb version 0.19.7"
            ]
          },
          "metadata": {}
        },
        {
          "output_type": "display_data",
          "data": {
            "text/plain": [
              "<IPython.core.display.HTML object>"
            ],
            "text/html": [
              "Run data is saved locally in <code>/content/wandb/run-20250304_181408-q1fe9g35</code>"
            ]
          },
          "metadata": {}
        },
        {
          "output_type": "display_data",
          "data": {
            "text/plain": [
              "<IPython.core.display.HTML object>"
            ],
            "text/html": [
              "Syncing run <strong><a href='https://wandb.ai/DSML4220/surname-mlp-ALEX_CERVANTES/runs/q1fe9g35' target=\"_blank\">swept-sweep-5</a></strong> to <a href='https://wandb.ai/DSML4220/surname-mlp-ALEX_CERVANTES' target=\"_blank\">Weights & Biases</a> (<a href='https://wandb.me/developer-guide' target=\"_blank\">docs</a>)<br>Sweep page: <a href='https://wandb.ai/DSML4220/surname-mlp-ALEX_CERVANTES/sweeps/8g1vjocn' target=\"_blank\">https://wandb.ai/DSML4220/surname-mlp-ALEX_CERVANTES/sweeps/8g1vjocn</a>"
            ]
          },
          "metadata": {}
        },
        {
          "output_type": "display_data",
          "data": {
            "text/plain": [
              "<IPython.core.display.HTML object>"
            ],
            "text/html": [
              " View project at <a href='https://wandb.ai/DSML4220/surname-mlp-ALEX_CERVANTES' target=\"_blank\">https://wandb.ai/DSML4220/surname-mlp-ALEX_CERVANTES</a>"
            ]
          },
          "metadata": {}
        },
        {
          "output_type": "display_data",
          "data": {
            "text/plain": [
              "<IPython.core.display.HTML object>"
            ],
            "text/html": [
              " View sweep at <a href='https://wandb.ai/DSML4220/surname-mlp-ALEX_CERVANTES/sweeps/8g1vjocn' target=\"_blank\">https://wandb.ai/DSML4220/surname-mlp-ALEX_CERVANTES/sweeps/8g1vjocn</a>"
            ]
          },
          "metadata": {}
        },
        {
          "output_type": "display_data",
          "data": {
            "text/plain": [
              "<IPython.core.display.HTML object>"
            ],
            "text/html": [
              " View run at <a href='https://wandb.ai/DSML4220/surname-mlp-ALEX_CERVANTES/runs/q1fe9g35' target=\"_blank\">https://wandb.ai/DSML4220/surname-mlp-ALEX_CERVANTES/runs/q1fe9g35</a>"
            ]
          },
          "metadata": {}
        },
        {
          "output_type": "display_data",
          "data": {
            "text/plain": [
              "<IPython.core.display.HTML object>"
            ],
            "text/html": []
          },
          "metadata": {}
        },
        {
          "output_type": "display_data",
          "data": {
            "text/plain": [
              "<IPython.core.display.HTML object>"
            ],
            "text/html": [
              "<br>    <style><br>        .wandb-row {<br>            display: flex;<br>            flex-direction: row;<br>            flex-wrap: wrap;<br>            justify-content: flex-start;<br>            width: 100%;<br>        }<br>        .wandb-col {<br>            display: flex;<br>            flex-direction: column;<br>            flex-basis: 100%;<br>            flex: 1;<br>            padding: 10px;<br>        }<br>    </style><br><div class=\"wandb-row\"><div class=\"wandb-col\"><h3>Run history:</h3><br/><table class=\"wandb\"><tr><td>accuracy_train</td><td>▁▂▄▆▆▇▇█████████████████████████████████</td></tr><tr><td>accuracy_val</td><td>▁▇█▆▆▆▅▆▆▆▆▆▆▆▆▆▆▆▆▆▅▆▆▆▆▆▅▆▆▆▅▆▆▆▆▆▇▆▆▆</td></tr><tr><td>epoch</td><td>▁▁▁▁▁▂▂▂▂▂▃▃▃▃▃▄▄▄▄▄▅▅▅▅▅▆▆▆▆▆▆▇▇▇▇▇▇▇██</td></tr><tr><td>train batch loss</td><td>█▆▅▄▄▄▄▂▂▂▃▂▂▄▂▂▂▁▃▄▂▃▄▄▄▁▄▅▄▄▅▃▁▂▁▃▂▁▃▂</td></tr><tr><td>train_loss</td><td>█▃▂▂▁▁▁▁▁▁▁▁▁▁▁▁▁▁▁▁▁▁▁▁▁▁▁▁▁▁▁▁▁▁▁▁▁▁▁▁</td></tr><tr><td>val batch loss</td><td>▆▇▁▆▁▁▂▄▄▃▅▅▃▅▅▇▄▂█▇▆▆▅▅▅▃▃▅▅▅▅▇▅▇▁▇▃▆▆▄</td></tr><tr><td>val_loss</td><td>▆▄▆▃▁▇▂▆▅▅▂▅▅▅▅▆█▆▁▆▇█▄▅▅▆▅▂▆▄▃▆▆▆▅▄▄▆▅▄</td></tr></table><br/></div><div class=\"wandb-col\"><h3>Run summary:</h3><br/><table class=\"wandb\"><tr><td>accuracy_train</td><td>0.54518</td></tr><tr><td>accuracy_val</td><td>0.47331</td></tr><tr><td>epoch</td><td>99</td></tr><tr><td>train batch loss</td><td>1.33184</td></tr><tr><td>train_loss</td><td>1.1107</td></tr><tr><td>val batch loss</td><td>1.91528</td></tr><tr><td>val_loss</td><td>1.82955</td></tr></table><br/></div></div>"
            ]
          },
          "metadata": {}
        },
        {
          "output_type": "display_data",
          "data": {
            "text/plain": [
              "<IPython.core.display.HTML object>"
            ],
            "text/html": [
              " View run <strong style=\"color:#cdcd00\">swept-sweep-5</strong> at: <a href='https://wandb.ai/DSML4220/surname-mlp-ALEX_CERVANTES/runs/q1fe9g35' target=\"_blank\">https://wandb.ai/DSML4220/surname-mlp-ALEX_CERVANTES/runs/q1fe9g35</a><br> View project at: <a href='https://wandb.ai/DSML4220/surname-mlp-ALEX_CERVANTES' target=\"_blank\">https://wandb.ai/DSML4220/surname-mlp-ALEX_CERVANTES</a><br>Synced 5 W&B file(s), 0 media file(s), 0 artifact file(s) and 0 other file(s)"
            ]
          },
          "metadata": {}
        },
        {
          "output_type": "display_data",
          "data": {
            "text/plain": [
              "<IPython.core.display.HTML object>"
            ],
            "text/html": [
              "Find logs at: <code>./wandb/run-20250304_181408-q1fe9g35/logs</code>"
            ]
          },
          "metadata": {}
        },
        {
          "output_type": "stream",
          "name": "stderr",
          "text": [
            "\u001b[34m\u001b[1mwandb\u001b[0m: Agent Starting Run: e806y7tm with config:\n",
            "\u001b[34m\u001b[1mwandb\u001b[0m: \tbatch_size: 8\n",
            "\u001b[34m\u001b[1mwandb\u001b[0m: \tdropout: 0.5\n",
            "\u001b[34m\u001b[1mwandb\u001b[0m: \tepochs: 100\n",
            "\u001b[34m\u001b[1mwandb\u001b[0m: \thidden_layer_size: 200\n",
            "\u001b[34m\u001b[1mwandb\u001b[0m: \tlearning_rate: 0.05\n",
            "\u001b[34m\u001b[1mwandb\u001b[0m: \toptimizer: adam\n"
          ]
        },
        {
          "output_type": "display_data",
          "data": {
            "text/plain": [
              "<IPython.core.display.HTML object>"
            ],
            "text/html": [
              "Tracking run with wandb version 0.19.7"
            ]
          },
          "metadata": {}
        },
        {
          "output_type": "display_data",
          "data": {
            "text/plain": [
              "<IPython.core.display.HTML object>"
            ],
            "text/html": [
              "Run data is saved locally in <code>/content/wandb/run-20250304_181509-e806y7tm</code>"
            ]
          },
          "metadata": {}
        },
        {
          "output_type": "display_data",
          "data": {
            "text/plain": [
              "<IPython.core.display.HTML object>"
            ],
            "text/html": [
              "Syncing run <strong><a href='https://wandb.ai/DSML4220/surname-mlp-ALEX_CERVANTES/runs/e806y7tm' target=\"_blank\">winter-sweep-6</a></strong> to <a href='https://wandb.ai/DSML4220/surname-mlp-ALEX_CERVANTES' target=\"_blank\">Weights & Biases</a> (<a href='https://wandb.me/developer-guide' target=\"_blank\">docs</a>)<br>Sweep page: <a href='https://wandb.ai/DSML4220/surname-mlp-ALEX_CERVANTES/sweeps/8g1vjocn' target=\"_blank\">https://wandb.ai/DSML4220/surname-mlp-ALEX_CERVANTES/sweeps/8g1vjocn</a>"
            ]
          },
          "metadata": {}
        },
        {
          "output_type": "display_data",
          "data": {
            "text/plain": [
              "<IPython.core.display.HTML object>"
            ],
            "text/html": [
              " View project at <a href='https://wandb.ai/DSML4220/surname-mlp-ALEX_CERVANTES' target=\"_blank\">https://wandb.ai/DSML4220/surname-mlp-ALEX_CERVANTES</a>"
            ]
          },
          "metadata": {}
        },
        {
          "output_type": "display_data",
          "data": {
            "text/plain": [
              "<IPython.core.display.HTML object>"
            ],
            "text/html": [
              " View sweep at <a href='https://wandb.ai/DSML4220/surname-mlp-ALEX_CERVANTES/sweeps/8g1vjocn' target=\"_blank\">https://wandb.ai/DSML4220/surname-mlp-ALEX_CERVANTES/sweeps/8g1vjocn</a>"
            ]
          },
          "metadata": {}
        },
        {
          "output_type": "display_data",
          "data": {
            "text/plain": [
              "<IPython.core.display.HTML object>"
            ],
            "text/html": [
              " View run at <a href='https://wandb.ai/DSML4220/surname-mlp-ALEX_CERVANTES/runs/e806y7tm' target=\"_blank\">https://wandb.ai/DSML4220/surname-mlp-ALEX_CERVANTES/runs/e806y7tm</a>"
            ]
          },
          "metadata": {}
        },
        {
          "output_type": "display_data",
          "data": {
            "text/plain": [
              "<IPython.core.display.HTML object>"
            ],
            "text/html": []
          },
          "metadata": {}
        },
        {
          "output_type": "display_data",
          "data": {
            "text/plain": [
              "<IPython.core.display.HTML object>"
            ],
            "text/html": [
              "<br>    <style><br>        .wandb-row {<br>            display: flex;<br>            flex-direction: row;<br>            flex-wrap: wrap;<br>            justify-content: flex-start;<br>            width: 100%;<br>        }<br>        .wandb-col {<br>            display: flex;<br>            flex-direction: column;<br>            flex-basis: 100%;<br>            flex: 1;<br>            padding: 10px;<br>        }<br>    </style><br><div class=\"wandb-row\"><div class=\"wandb-col\"><h3>Run history:</h3><br/><table class=\"wandb\"><tr><td>accuracy_train</td><td>▁▂▂▃▄▆▇▇████████████████████████████████</td></tr><tr><td>accuracy_val</td><td>██▁▅▃▆▆▇▆▆▆▇▇▆▆▆▆▆▆▆▆▆▆▆▆▆▆▆▆▆▆▆▆▆▆▆▆▆▆▆</td></tr><tr><td>epoch</td><td>▁▁▁▂▂▂▂▂▂▃▃▃▃▃▃▄▄▄▄▅▅▅▅▅▆▆▆▆▆▆▆▆▆▇▇▇▇▇▇█</td></tr><tr><td>train batch loss</td><td>█▇▅▄▆▄▅▄▃▄▄▁▅▄▆▃▅▂▂▆▄▄▃▄▃▃▅▃▂▇▇▆▅▆▃▄▃▂▄▂</td></tr><tr><td>train_loss</td><td>█▇▅▅▂▁▁▁▁▁▁▁▁▁▁▁▁▁▁▁▁▁▁▁▁▁▁▁▁▁▁▁▁▁▁▁▁▁▁▁</td></tr><tr><td>val batch loss</td><td>▃▂▅▂▂▂▁▅▃▂▆▁▆▂▄▃▃▃█▂▁▂▁▄▂▂▂▂▂▂▁▃▃▂▁▂▂▂▃▂</td></tr><tr><td>val_loss</td><td>▄▂▂▁▂▃▆▇▅▆▇▇▆▇▇█▆▇▆▆▆▆▆▇█▇▆█▆▅▇▇▇▇▆▆▆▇▇▇</td></tr></table><br/></div><div class=\"wandb-col\"><h3>Run summary:</h3><br/><table class=\"wandb\"><tr><td>accuracy_train</td><td>0.47292</td></tr><tr><td>accuracy_val</td><td>0.39695</td></tr><tr><td>epoch</td><td>99</td></tr><tr><td>train batch loss</td><td>1.74004</td></tr><tr><td>train_loss</td><td>1.56433</td></tr><tr><td>val batch loss</td><td>1.02712</td></tr><tr><td>val_loss</td><td>3.06314</td></tr></table><br/></div></div>"
            ]
          },
          "metadata": {}
        },
        {
          "output_type": "display_data",
          "data": {
            "text/plain": [
              "<IPython.core.display.HTML object>"
            ],
            "text/html": [
              " View run <strong style=\"color:#cdcd00\">winter-sweep-6</strong> at: <a href='https://wandb.ai/DSML4220/surname-mlp-ALEX_CERVANTES/runs/e806y7tm' target=\"_blank\">https://wandb.ai/DSML4220/surname-mlp-ALEX_CERVANTES/runs/e806y7tm</a><br> View project at: <a href='https://wandb.ai/DSML4220/surname-mlp-ALEX_CERVANTES' target=\"_blank\">https://wandb.ai/DSML4220/surname-mlp-ALEX_CERVANTES</a><br>Synced 5 W&B file(s), 0 media file(s), 0 artifact file(s) and 0 other file(s)"
            ]
          },
          "metadata": {}
        },
        {
          "output_type": "display_data",
          "data": {
            "text/plain": [
              "<IPython.core.display.HTML object>"
            ],
            "text/html": [
              "Find logs at: <code>./wandb/run-20250304_181509-e806y7tm/logs</code>"
            ]
          },
          "metadata": {}
        },
        {
          "output_type": "stream",
          "name": "stderr",
          "text": [
            "\u001b[34m\u001b[1mwandb\u001b[0m: Agent Starting Run: fzq0f31x with config:\n",
            "\u001b[34m\u001b[1mwandb\u001b[0m: \tbatch_size: 16\n",
            "\u001b[34m\u001b[1mwandb\u001b[0m: \tdropout: 0.7\n",
            "\u001b[34m\u001b[1mwandb\u001b[0m: \tepochs: 100\n",
            "\u001b[34m\u001b[1mwandb\u001b[0m: \thidden_layer_size: 200\n",
            "\u001b[34m\u001b[1mwandb\u001b[0m: \tlearning_rate: 0.001\n",
            "\u001b[34m\u001b[1mwandb\u001b[0m: \toptimizer: rmsprop\n"
          ]
        },
        {
          "output_type": "display_data",
          "data": {
            "text/plain": [
              "<IPython.core.display.HTML object>"
            ],
            "text/html": [
              "Tracking run with wandb version 0.19.7"
            ]
          },
          "metadata": {}
        },
        {
          "output_type": "display_data",
          "data": {
            "text/plain": [
              "<IPython.core.display.HTML object>"
            ],
            "text/html": [
              "Run data is saved locally in <code>/content/wandb/run-20250304_181817-fzq0f31x</code>"
            ]
          },
          "metadata": {}
        },
        {
          "output_type": "display_data",
          "data": {
            "text/plain": [
              "<IPython.core.display.HTML object>"
            ],
            "text/html": [
              "Syncing run <strong><a href='https://wandb.ai/DSML4220/surname-mlp-ALEX_CERVANTES/runs/fzq0f31x' target=\"_blank\">fresh-sweep-7</a></strong> to <a href='https://wandb.ai/DSML4220/surname-mlp-ALEX_CERVANTES' target=\"_blank\">Weights & Biases</a> (<a href='https://wandb.me/developer-guide' target=\"_blank\">docs</a>)<br>Sweep page: <a href='https://wandb.ai/DSML4220/surname-mlp-ALEX_CERVANTES/sweeps/8g1vjocn' target=\"_blank\">https://wandb.ai/DSML4220/surname-mlp-ALEX_CERVANTES/sweeps/8g1vjocn</a>"
            ]
          },
          "metadata": {}
        },
        {
          "output_type": "display_data",
          "data": {
            "text/plain": [
              "<IPython.core.display.HTML object>"
            ],
            "text/html": [
              " View project at <a href='https://wandb.ai/DSML4220/surname-mlp-ALEX_CERVANTES' target=\"_blank\">https://wandb.ai/DSML4220/surname-mlp-ALEX_CERVANTES</a>"
            ]
          },
          "metadata": {}
        },
        {
          "output_type": "display_data",
          "data": {
            "text/plain": [
              "<IPython.core.display.HTML object>"
            ],
            "text/html": [
              " View sweep at <a href='https://wandb.ai/DSML4220/surname-mlp-ALEX_CERVANTES/sweeps/8g1vjocn' target=\"_blank\">https://wandb.ai/DSML4220/surname-mlp-ALEX_CERVANTES/sweeps/8g1vjocn</a>"
            ]
          },
          "metadata": {}
        },
        {
          "output_type": "display_data",
          "data": {
            "text/plain": [
              "<IPython.core.display.HTML object>"
            ],
            "text/html": [
              " View run at <a href='https://wandb.ai/DSML4220/surname-mlp-ALEX_CERVANTES/runs/fzq0f31x' target=\"_blank\">https://wandb.ai/DSML4220/surname-mlp-ALEX_CERVANTES/runs/fzq0f31x</a>"
            ]
          },
          "metadata": {}
        },
        {
          "output_type": "display_data",
          "data": {
            "text/plain": [
              "<IPython.core.display.HTML object>"
            ],
            "text/html": []
          },
          "metadata": {}
        },
        {
          "output_type": "display_data",
          "data": {
            "text/plain": [
              "<IPython.core.display.HTML object>"
            ],
            "text/html": [
              "<br>    <style><br>        .wandb-row {<br>            display: flex;<br>            flex-direction: row;<br>            flex-wrap: wrap;<br>            justify-content: flex-start;<br>            width: 100%;<br>        }<br>        .wandb-col {<br>            display: flex;<br>            flex-direction: column;<br>            flex-basis: 100%;<br>            flex: 1;<br>            padding: 10px;<br>        }<br>    </style><br><div class=\"wandb-row\"><div class=\"wandb-col\"><h3>Run history:</h3><br/><table class=\"wandb\"><tr><td>accuracy_train</td><td>▁▃▄▆▆███████████████████████████████████</td></tr><tr><td>accuracy_val</td><td>▄▁▄▅▅▅▇▇████████████████████████████████</td></tr><tr><td>epoch</td><td>▁▁▁▂▂▃▃▃▃▃▃▃▄▄▄▄▄▄▄▅▅▅▆▆▆▆▆▇▇▇▇▇▇▇▇█████</td></tr><tr><td>train batch loss</td><td>▇▅▂▂▄▃▅▄▅▂▄▂▅▁▃▂▃▄▄▂▂▆▆▃▂▄▃▂▄▅▆█▂█▂▂▂▂▂▄</td></tr><tr><td>train_loss</td><td>█▃▂▂▁▁▁▁▁▁▁▁▁▁▁▁▁▁▁▁▁▁▁▁▁▁▁▁▁▁▁▁▁▁▁▁▁▁▁▁</td></tr><tr><td>val batch loss</td><td>▆▄▃▄▆▄▇▂▃▇▆▃▃▅▄▂▂▁▃▃▆▄▃▂▆▃█▂▃▂▅▅▅▇▃▂▄▂▁▄</td></tr><tr><td>val_loss</td><td>█▅▃▂▂▂▂▂▁▂▂▂▂▂▃▂▂▂▂▂▁▁▂▂▃▂▂▁▂▂▂▂▂▂▁▂▂▂▂▁</td></tr></table><br/></div><div class=\"wandb-col\"><h3>Run summary:</h3><br/><table class=\"wandb\"><tr><td>accuracy_train</td><td>0.56198</td></tr><tr><td>accuracy_val</td><td>0.49939</td></tr><tr><td>epoch</td><td>99</td></tr><tr><td>train batch loss</td><td>1.75608</td></tr><tr><td>train_loss</td><td>1.25001</td></tr><tr><td>val batch loss</td><td>3.45203</td></tr><tr><td>val_loss</td><td>1.70742</td></tr></table><br/></div></div>"
            ]
          },
          "metadata": {}
        },
        {
          "output_type": "display_data",
          "data": {
            "text/plain": [
              "<IPython.core.display.HTML object>"
            ],
            "text/html": [
              " View run <strong style=\"color:#cdcd00\">fresh-sweep-7</strong> at: <a href='https://wandb.ai/DSML4220/surname-mlp-ALEX_CERVANTES/runs/fzq0f31x' target=\"_blank\">https://wandb.ai/DSML4220/surname-mlp-ALEX_CERVANTES/runs/fzq0f31x</a><br> View project at: <a href='https://wandb.ai/DSML4220/surname-mlp-ALEX_CERVANTES' target=\"_blank\">https://wandb.ai/DSML4220/surname-mlp-ALEX_CERVANTES</a><br>Synced 5 W&B file(s), 0 media file(s), 0 artifact file(s) and 0 other file(s)"
            ]
          },
          "metadata": {}
        },
        {
          "output_type": "display_data",
          "data": {
            "text/plain": [
              "<IPython.core.display.HTML object>"
            ],
            "text/html": [
              "Find logs at: <code>./wandb/run-20250304_181817-fzq0f31x/logs</code>"
            ]
          },
          "metadata": {}
        },
        {
          "output_type": "stream",
          "name": "stderr",
          "text": [
            "\u001b[34m\u001b[1mwandb\u001b[0m: Agent Starting Run: hcp8iuk4 with config:\n",
            "\u001b[34m\u001b[1mwandb\u001b[0m: \tbatch_size: 8\n",
            "\u001b[34m\u001b[1mwandb\u001b[0m: \tdropout: 0.7\n",
            "\u001b[34m\u001b[1mwandb\u001b[0m: \tepochs: 100\n",
            "\u001b[34m\u001b[1mwandb\u001b[0m: \thidden_layer_size: 500\n",
            "\u001b[34m\u001b[1mwandb\u001b[0m: \tlearning_rate: 0.005\n",
            "\u001b[34m\u001b[1mwandb\u001b[0m: \toptimizer: rmsprop\n"
          ]
        },
        {
          "output_type": "display_data",
          "data": {
            "text/plain": [
              "<IPython.core.display.HTML object>"
            ],
            "text/html": [
              "Tracking run with wandb version 0.19.7"
            ]
          },
          "metadata": {}
        },
        {
          "output_type": "display_data",
          "data": {
            "text/plain": [
              "<IPython.core.display.HTML object>"
            ],
            "text/html": [
              "Run data is saved locally in <code>/content/wandb/run-20250304_182014-hcp8iuk4</code>"
            ]
          },
          "metadata": {}
        },
        {
          "output_type": "display_data",
          "data": {
            "text/plain": [
              "<IPython.core.display.HTML object>"
            ],
            "text/html": [
              "Syncing run <strong><a href='https://wandb.ai/DSML4220/surname-mlp-ALEX_CERVANTES/runs/hcp8iuk4' target=\"_blank\">lunar-sweep-8</a></strong> to <a href='https://wandb.ai/DSML4220/surname-mlp-ALEX_CERVANTES' target=\"_blank\">Weights & Biases</a> (<a href='https://wandb.me/developer-guide' target=\"_blank\">docs</a>)<br>Sweep page: <a href='https://wandb.ai/DSML4220/surname-mlp-ALEX_CERVANTES/sweeps/8g1vjocn' target=\"_blank\">https://wandb.ai/DSML4220/surname-mlp-ALEX_CERVANTES/sweeps/8g1vjocn</a>"
            ]
          },
          "metadata": {}
        },
        {
          "output_type": "display_data",
          "data": {
            "text/plain": [
              "<IPython.core.display.HTML object>"
            ],
            "text/html": [
              " View project at <a href='https://wandb.ai/DSML4220/surname-mlp-ALEX_CERVANTES' target=\"_blank\">https://wandb.ai/DSML4220/surname-mlp-ALEX_CERVANTES</a>"
            ]
          },
          "metadata": {}
        },
        {
          "output_type": "display_data",
          "data": {
            "text/plain": [
              "<IPython.core.display.HTML object>"
            ],
            "text/html": [
              " View sweep at <a href='https://wandb.ai/DSML4220/surname-mlp-ALEX_CERVANTES/sweeps/8g1vjocn' target=\"_blank\">https://wandb.ai/DSML4220/surname-mlp-ALEX_CERVANTES/sweeps/8g1vjocn</a>"
            ]
          },
          "metadata": {}
        },
        {
          "output_type": "display_data",
          "data": {
            "text/plain": [
              "<IPython.core.display.HTML object>"
            ],
            "text/html": [
              " View run at <a href='https://wandb.ai/DSML4220/surname-mlp-ALEX_CERVANTES/runs/hcp8iuk4' target=\"_blank\">https://wandb.ai/DSML4220/surname-mlp-ALEX_CERVANTES/runs/hcp8iuk4</a>"
            ]
          },
          "metadata": {}
        },
        {
          "output_type": "display_data",
          "data": {
            "text/plain": [
              "<IPython.core.display.HTML object>"
            ],
            "text/html": []
          },
          "metadata": {}
        },
        {
          "output_type": "display_data",
          "data": {
            "text/plain": [
              "<IPython.core.display.HTML object>"
            ],
            "text/html": [
              "<br>    <style><br>        .wandb-row {<br>            display: flex;<br>            flex-direction: row;<br>            flex-wrap: wrap;<br>            justify-content: flex-start;<br>            width: 100%;<br>        }<br>        .wandb-col {<br>            display: flex;<br>            flex-direction: column;<br>            flex-basis: 100%;<br>            flex: 1;<br>            padding: 10px;<br>        }<br>    </style><br><div class=\"wandb-row\"><div class=\"wandb-col\"><h3>Run history:</h3><br/><table class=\"wandb\"><tr><td>accuracy_train</td><td>▁▆▇█████████████████████████████████████</td></tr><tr><td>accuracy_val</td><td>▁▄▇▇▇███████████████████████████████████</td></tr><tr><td>epoch</td><td>▁▁▁▁▂▂▂▂▂▃▃▃▃▃▃▄▄▄▄▄▄▄▅▅▅▅▅▅▅▆▆▆▆▆▇▇▇▇▇█</td></tr><tr><td>train batch loss</td><td>▆█▃▁▂▁▂▂▁▁▁▁▂▂▂▂▂▂▂▃▂▁▁▁▁▂▁▂▂▁▃▂▂▂▂▂▁▂▂▂</td></tr><tr><td>train_loss</td><td>█▅▃▃▂▁▁▁▁▁▁▁▁▁▁▁▁▁▁▁▁▁▁▁▁▁▁▁▁▁▁▁▁▁▁▁▁▁▁▁</td></tr><tr><td>val batch loss</td><td>▅▂▂▁▁▃▂▁▂▆▂▁▁▇▂▄▄▅▄▂▁▂▆▃▇▂▁▅▂▁▅▃▃▁█▂▂▃▃▆</td></tr><tr><td>val_loss</td><td>▂▁▃▃▅▇▇▇▇▇▇▇▇▇▇▇▇▇▇▆▇█▇▇▆▇▇█▇▇▆▇▆▇▇▇▇▆▆▇</td></tr></table><br/></div><div class=\"wandb-col\"><h3>Run summary:</h3><br/><table class=\"wandb\"><tr><td>accuracy_train</td><td>0.8707</td></tr><tr><td>accuracy_val</td><td>0.62561</td></tr><tr><td>epoch</td><td>99</td></tr><tr><td>train batch loss</td><td>0.20736</td></tr><tr><td>train_loss</td><td>0.29143</td></tr><tr><td>val batch loss</td><td>0.52285</td></tr><tr><td>val_loss</td><td>2.52166</td></tr></table><br/></div></div>"
            ]
          },
          "metadata": {}
        },
        {
          "output_type": "display_data",
          "data": {
            "text/plain": [
              "<IPython.core.display.HTML object>"
            ],
            "text/html": [
              " View run <strong style=\"color:#cdcd00\">lunar-sweep-8</strong> at: <a href='https://wandb.ai/DSML4220/surname-mlp-ALEX_CERVANTES/runs/hcp8iuk4' target=\"_blank\">https://wandb.ai/DSML4220/surname-mlp-ALEX_CERVANTES/runs/hcp8iuk4</a><br> View project at: <a href='https://wandb.ai/DSML4220/surname-mlp-ALEX_CERVANTES' target=\"_blank\">https://wandb.ai/DSML4220/surname-mlp-ALEX_CERVANTES</a><br>Synced 5 W&B file(s), 0 media file(s), 0 artifact file(s) and 0 other file(s)"
            ]
          },
          "metadata": {}
        },
        {
          "output_type": "display_data",
          "data": {
            "text/plain": [
              "<IPython.core.display.HTML object>"
            ],
            "text/html": [
              "Find logs at: <code>./wandb/run-20250304_182014-hcp8iuk4/logs</code>"
            ]
          },
          "metadata": {}
        },
        {
          "output_type": "stream",
          "name": "stderr",
          "text": [
            "\u001b[34m\u001b[1mwandb\u001b[0m: Agent Starting Run: x7y79ky4 with config:\n",
            "\u001b[34m\u001b[1mwandb\u001b[0m: \tbatch_size: 16\n",
            "\u001b[34m\u001b[1mwandb\u001b[0m: \tdropout: 0.5\n",
            "\u001b[34m\u001b[1mwandb\u001b[0m: \tepochs: 100\n",
            "\u001b[34m\u001b[1mwandb\u001b[0m: \thidden_layer_size: 500\n",
            "\u001b[34m\u001b[1mwandb\u001b[0m: \tlearning_rate: 0.001\n",
            "\u001b[34m\u001b[1mwandb\u001b[0m: \toptimizer: adam\n"
          ]
        },
        {
          "output_type": "display_data",
          "data": {
            "text/plain": [
              "<IPython.core.display.HTML object>"
            ],
            "text/html": [
              "Tracking run with wandb version 0.19.7"
            ]
          },
          "metadata": {}
        },
        {
          "output_type": "display_data",
          "data": {
            "text/plain": [
              "<IPython.core.display.HTML object>"
            ],
            "text/html": [
              "Run data is saved locally in <code>/content/wandb/run-20250304_182332-x7y79ky4</code>"
            ]
          },
          "metadata": {}
        },
        {
          "output_type": "display_data",
          "data": {
            "text/plain": [
              "<IPython.core.display.HTML object>"
            ],
            "text/html": [
              "Syncing run <strong><a href='https://wandb.ai/DSML4220/surname-mlp-ALEX_CERVANTES/runs/x7y79ky4' target=\"_blank\">prime-sweep-9</a></strong> to <a href='https://wandb.ai/DSML4220/surname-mlp-ALEX_CERVANTES' target=\"_blank\">Weights & Biases</a> (<a href='https://wandb.me/developer-guide' target=\"_blank\">docs</a>)<br>Sweep page: <a href='https://wandb.ai/DSML4220/surname-mlp-ALEX_CERVANTES/sweeps/8g1vjocn' target=\"_blank\">https://wandb.ai/DSML4220/surname-mlp-ALEX_CERVANTES/sweeps/8g1vjocn</a>"
            ]
          },
          "metadata": {}
        },
        {
          "output_type": "display_data",
          "data": {
            "text/plain": [
              "<IPython.core.display.HTML object>"
            ],
            "text/html": [
              " View project at <a href='https://wandb.ai/DSML4220/surname-mlp-ALEX_CERVANTES' target=\"_blank\">https://wandb.ai/DSML4220/surname-mlp-ALEX_CERVANTES</a>"
            ]
          },
          "metadata": {}
        },
        {
          "output_type": "display_data",
          "data": {
            "text/plain": [
              "<IPython.core.display.HTML object>"
            ],
            "text/html": [
              " View sweep at <a href='https://wandb.ai/DSML4220/surname-mlp-ALEX_CERVANTES/sweeps/8g1vjocn' target=\"_blank\">https://wandb.ai/DSML4220/surname-mlp-ALEX_CERVANTES/sweeps/8g1vjocn</a>"
            ]
          },
          "metadata": {}
        },
        {
          "output_type": "display_data",
          "data": {
            "text/plain": [
              "<IPython.core.display.HTML object>"
            ],
            "text/html": [
              " View run at <a href='https://wandb.ai/DSML4220/surname-mlp-ALEX_CERVANTES/runs/x7y79ky4' target=\"_blank\">https://wandb.ai/DSML4220/surname-mlp-ALEX_CERVANTES/runs/x7y79ky4</a>"
            ]
          },
          "metadata": {}
        },
        {
          "output_type": "display_data",
          "data": {
            "text/plain": [
              "<IPython.core.display.HTML object>"
            ],
            "text/html": []
          },
          "metadata": {}
        },
        {
          "output_type": "display_data",
          "data": {
            "text/plain": [
              "<IPython.core.display.HTML object>"
            ],
            "text/html": [
              "<br>    <style><br>        .wandb-row {<br>            display: flex;<br>            flex-direction: row;<br>            flex-wrap: wrap;<br>            justify-content: flex-start;<br>            width: 100%;<br>        }<br>        .wandb-col {<br>            display: flex;<br>            flex-direction: column;<br>            flex-basis: 100%;<br>            flex: 1;<br>            padding: 10px;<br>        }<br>    </style><br><div class=\"wandb-row\"><div class=\"wandb-col\"><h3>Run history:</h3><br/><table class=\"wandb\"><tr><td>accuracy_train</td><td>▁▂▃▃▄▇▇█████████████████████████████████</td></tr><tr><td>accuracy_val</td><td>▁▃▄▆▇███████████████████████████████████</td></tr><tr><td>epoch</td><td>▁▁▁▁▂▂▂▂▂▃▃▃▃▃▄▄▄▅▅▅▅▅▅▆▆▆▆▆▆▆▇▇▇▇▇▇████</td></tr><tr><td>train batch loss</td><td>█▅█▅▃▆▃▃▂▁▄▄▆▆▃▄▃▃▆▂▆▄▆▄▄▄▅▃▄▅▄▂▃▆▂▄▄▅▅▂</td></tr><tr><td>train_loss</td><td>█▆▄▄▃▃▂▂▂▁▁▁▁▁▁▁▁▁▁▁▁▁▁▁▁▁▁▁▁▁▁▁▁▁▁▁▁▁▁▁</td></tr><tr><td>val batch loss</td><td>▃▅▄▅▂█▁▆▄▂▆█▆▃▃▄▂▂▇▃▃▁▁▄▅▆▃▃▄▂▇▂▅▆▃▄▃▃█▂</td></tr><tr><td>val_loss</td><td>▅▅▃▆▄▅▆▂▆▃▅▄▄▆▅▅▃▆▅▆▄▅▆▂▅▅▆▄▄▄▁▅▆█▇█▆▂▄▆</td></tr></table><br/></div><div class=\"wandb-col\"><h3>Run summary:</h3><br/><table class=\"wandb\"><tr><td>accuracy_train</td><td>0.70104</td></tr><tr><td>accuracy_val</td><td>0.56005</td></tr><tr><td>epoch</td><td>99</td></tr><tr><td>train batch loss</td><td>1.67672</td></tr><tr><td>train_loss</td><td>0.74865</td></tr><tr><td>val batch loss</td><td>0.56283</td></tr><tr><td>val_loss</td><td>1.72825</td></tr></table><br/></div></div>"
            ]
          },
          "metadata": {}
        },
        {
          "output_type": "display_data",
          "data": {
            "text/plain": [
              "<IPython.core.display.HTML object>"
            ],
            "text/html": [
              " View run <strong style=\"color:#cdcd00\">prime-sweep-9</strong> at: <a href='https://wandb.ai/DSML4220/surname-mlp-ALEX_CERVANTES/runs/x7y79ky4' target=\"_blank\">https://wandb.ai/DSML4220/surname-mlp-ALEX_CERVANTES/runs/x7y79ky4</a><br> View project at: <a href='https://wandb.ai/DSML4220/surname-mlp-ALEX_CERVANTES' target=\"_blank\">https://wandb.ai/DSML4220/surname-mlp-ALEX_CERVANTES</a><br>Synced 5 W&B file(s), 0 media file(s), 0 artifact file(s) and 0 other file(s)"
            ]
          },
          "metadata": {}
        },
        {
          "output_type": "display_data",
          "data": {
            "text/plain": [
              "<IPython.core.display.HTML object>"
            ],
            "text/html": [
              "Find logs at: <code>./wandb/run-20250304_182332-x7y79ky4/logs</code>"
            ]
          },
          "metadata": {}
        },
        {
          "output_type": "stream",
          "name": "stderr",
          "text": [
            "\u001b[34m\u001b[1mwandb\u001b[0m: Agent Starting Run: tj47ezpy with config:\n",
            "\u001b[34m\u001b[1mwandb\u001b[0m: \tbatch_size: 16\n",
            "\u001b[34m\u001b[1mwandb\u001b[0m: \tdropout: 0.3\n",
            "\u001b[34m\u001b[1mwandb\u001b[0m: \tepochs: 100\n",
            "\u001b[34m\u001b[1mwandb\u001b[0m: \thidden_layer_size: 500\n",
            "\u001b[34m\u001b[1mwandb\u001b[0m: \tlearning_rate: 0.01\n",
            "\u001b[34m\u001b[1mwandb\u001b[0m: \toptimizer: sgd\n"
          ]
        },
        {
          "output_type": "display_data",
          "data": {
            "text/plain": [
              "<IPython.core.display.HTML object>"
            ],
            "text/html": [
              "Tracking run with wandb version 0.19.7"
            ]
          },
          "metadata": {}
        },
        {
          "output_type": "display_data",
          "data": {
            "text/plain": [
              "<IPython.core.display.HTML object>"
            ],
            "text/html": [
              "Run data is saved locally in <code>/content/wandb/run-20250304_182539-tj47ezpy</code>"
            ]
          },
          "metadata": {}
        },
        {
          "output_type": "display_data",
          "data": {
            "text/plain": [
              "<IPython.core.display.HTML object>"
            ],
            "text/html": [
              "Syncing run <strong><a href='https://wandb.ai/DSML4220/surname-mlp-ALEX_CERVANTES/runs/tj47ezpy' target=\"_blank\">daily-sweep-10</a></strong> to <a href='https://wandb.ai/DSML4220/surname-mlp-ALEX_CERVANTES' target=\"_blank\">Weights & Biases</a> (<a href='https://wandb.me/developer-guide' target=\"_blank\">docs</a>)<br>Sweep page: <a href='https://wandb.ai/DSML4220/surname-mlp-ALEX_CERVANTES/sweeps/8g1vjocn' target=\"_blank\">https://wandb.ai/DSML4220/surname-mlp-ALEX_CERVANTES/sweeps/8g1vjocn</a>"
            ]
          },
          "metadata": {}
        },
        {
          "output_type": "display_data",
          "data": {
            "text/plain": [
              "<IPython.core.display.HTML object>"
            ],
            "text/html": [
              " View project at <a href='https://wandb.ai/DSML4220/surname-mlp-ALEX_CERVANTES' target=\"_blank\">https://wandb.ai/DSML4220/surname-mlp-ALEX_CERVANTES</a>"
            ]
          },
          "metadata": {}
        },
        {
          "output_type": "display_data",
          "data": {
            "text/plain": [
              "<IPython.core.display.HTML object>"
            ],
            "text/html": [
              " View sweep at <a href='https://wandb.ai/DSML4220/surname-mlp-ALEX_CERVANTES/sweeps/8g1vjocn' target=\"_blank\">https://wandb.ai/DSML4220/surname-mlp-ALEX_CERVANTES/sweeps/8g1vjocn</a>"
            ]
          },
          "metadata": {}
        },
        {
          "output_type": "display_data",
          "data": {
            "text/plain": [
              "<IPython.core.display.HTML object>"
            ],
            "text/html": [
              " View run at <a href='https://wandb.ai/DSML4220/surname-mlp-ALEX_CERVANTES/runs/tj47ezpy' target=\"_blank\">https://wandb.ai/DSML4220/surname-mlp-ALEX_CERVANTES/runs/tj47ezpy</a>"
            ]
          },
          "metadata": {}
        },
        {
          "output_type": "display_data",
          "data": {
            "text/plain": [
              "<IPython.core.display.HTML object>"
            ],
            "text/html": []
          },
          "metadata": {}
        },
        {
          "output_type": "display_data",
          "data": {
            "text/plain": [
              "<IPython.core.display.HTML object>"
            ],
            "text/html": [
              "<br>    <style><br>        .wandb-row {<br>            display: flex;<br>            flex-direction: row;<br>            flex-wrap: wrap;<br>            justify-content: flex-start;<br>            width: 100%;<br>        }<br>        .wandb-col {<br>            display: flex;<br>            flex-direction: column;<br>            flex-basis: 100%;<br>            flex: 1;<br>            padding: 10px;<br>        }<br>    </style><br><div class=\"wandb-row\"><div class=\"wandb-col\"><h3>Run history:</h3><br/><table class=\"wandb\"><tr><td>accuracy_train</td><td>▁▂▃▄▄▆▇▇▇███████████████████████████████</td></tr><tr><td>accuracy_val</td><td>▁▃▇▇▇███████████████████████████████████</td></tr><tr><td>epoch</td><td>▁▁▁▁▁▂▂▂▂▂▂▂▃▃▃▃▃▄▄▄▄▄▄▅▅▅▅▆▆▆▇▇▇▇▇▇▇▇██</td></tr><tr><td>train batch loss</td><td>▄▆▅█▄▅▄▂▂▂▂▁▂▂▁▂▂▂▂▃▂▂▂▂▂▂▂▂▂▂▁▃▁▃▂▂▂▃▁▂</td></tr><tr><td>train_loss</td><td>█▅▄▃▃▂▂▂▁▁▁▁▁▁▁▁▁▁▁▁▁▁▁▁▁▁▁▁▁▁▁▁▁▁▁▁▁▁▁▁</td></tr><tr><td>val batch loss</td><td>▄▃▃▂▃▃▂▄▂▂▁▂▃▁▃▄▁▅▂▂▃▃▄▂▁▂▅▃▂▆▄▂▃█▄▆▂▄▃▂</td></tr><tr><td>val_loss</td><td>█▇▆▃▂▂▂▂▂▂▃▃▃▂▃▁▂▃▂▁▂▃▄▃▄▂▃▃▃▂▂▂▂▂▃▃▂▃▂▃</td></tr></table><br/></div><div class=\"wandb-col\"><h3>Run summary:</h3><br/><table class=\"wandb\"><tr><td>accuracy_train</td><td>0.69167</td></tr><tr><td>accuracy_val</td><td>0.55208</td></tr><tr><td>epoch</td><td>99</td></tr><tr><td>train batch loss</td><td>0.44817</td></tr><tr><td>train_loss</td><td>0.7158</td></tr><tr><td>val batch loss</td><td>1.32822</td></tr><tr><td>val_loss</td><td>1.79649</td></tr></table><br/></div></div>"
            ]
          },
          "metadata": {}
        },
        {
          "output_type": "display_data",
          "data": {
            "text/plain": [
              "<IPython.core.display.HTML object>"
            ],
            "text/html": [
              " View run <strong style=\"color:#cdcd00\">daily-sweep-10</strong> at: <a href='https://wandb.ai/DSML4220/surname-mlp-ALEX_CERVANTES/runs/tj47ezpy' target=\"_blank\">https://wandb.ai/DSML4220/surname-mlp-ALEX_CERVANTES/runs/tj47ezpy</a><br> View project at: <a href='https://wandb.ai/DSML4220/surname-mlp-ALEX_CERVANTES' target=\"_blank\">https://wandb.ai/DSML4220/surname-mlp-ALEX_CERVANTES</a><br>Synced 5 W&B file(s), 0 media file(s), 0 artifact file(s) and 0 other file(s)"
            ]
          },
          "metadata": {}
        },
        {
          "output_type": "display_data",
          "data": {
            "text/plain": [
              "<IPython.core.display.HTML object>"
            ],
            "text/html": [
              "Find logs at: <code>./wandb/run-20250304_182539-tj47ezpy/logs</code>"
            ]
          },
          "metadata": {}
        }
      ],
      "source": [
        "sweep_id = wandb.sweep(sweep_config, entity=\"DSML4220\", project=\"surname-mlp-ALEX_CERVANTES\")\n",
        "\n",
        "wandb.agent(sweep_id, train, count=10)"
      ]
    }
  ],
  "metadata": {
    "kernelspec": {
      "display_name": "py311",
      "language": "python",
      "name": "python3"
    },
    "language_info": {
      "codemirror_mode": {
        "name": "ipython",
        "version": 3
      },
      "file_extension": ".py",
      "mimetype": "text/x-python",
      "name": "python",
      "nbconvert_exporter": "python",
      "pygments_lexer": "ipython3",
      "version": "3.11.11"
    },
    "toc": {
      "colors": {
        "hover_highlight": "#DAA520",
        "running_highlight": "#FF0000",
        "selected_highlight": "#FFD700"
      },
      "moveMenuLeft": true,
      "nav_menu": {
        "height": "138px",
        "width": "252px"
      },
      "navigate_menu": true,
      "number_sections": true,
      "sideBar": true,
      "threshold": "5",
      "toc_cell": false,
      "toc_section_display": "block",
      "toc_window_display": false
    },
    "colab": {
      "provenance": [],
      "include_colab_link": true
    }
  },
  "nbformat": 4,
  "nbformat_minor": 0
}